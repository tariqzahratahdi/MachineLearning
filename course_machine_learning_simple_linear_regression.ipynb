{
  "nbformat": 4,
  "nbformat_minor": 0,
  "metadata": {
    "colab": {
      "provenance": [],
      "authorship_tag": "ABX9TyPiuK9PUP3jKog8lubbzVCo"
    },
    "kernelspec": {
      "name": "python3",
      "display_name": "Python 3"
    },
    "language_info": {
      "name": "python"
    }
  },
  "cells": [
    {
      "cell_type": "markdown",
      "source": [
        "# Simple Linear Regression\n",
        "\n",
        "The equation for simple linear regression is typically written as:\n",
        "\n",
        "$y = b_0 + b_1x$\n",
        "\n",
        "where\n",
        "* $y$ is the estimated or predicted value of the dependent variable (response variable),\n",
        "* $b_0$ is the y-intercept, which represents the predicted value of $y$ when $x$ is zero,\n",
        "* $b_1$ is the slope of the line, shows the average change in $y$ for a one-unit increase in $x$,\n",
        "* $x$ is the independent variable, or the predictor variable."
      ],
      "metadata": {
        "id": "ZkoKyRZ6iuq0"
      }
    },
    {
      "cell_type": "markdown",
      "source": [
        "## Calculating the Slope and the Intercept\n",
        "\n",
        "In the following example, we will calculate the slope and the intercept of the linear equation of a simple linear regression that fits the data contained in a sample dataset.\n",
        "\n",
        "### Load Dataset\n",
        "\n",
        "We will use a dataset that contains data concerning house sizes is square feet and prices in US Dollars."
      ],
      "metadata": {
        "id": "gMrJpo6VtOZA"
      }
    },
    {
      "cell_type": "code",
      "source": [
        "# imports\n",
        "import numpy as np\n",
        "import pandas as pd\n",
        "import matplotlib.pyplot as plt\n",
        "\n",
        "# csv file location\n",
        "url = 'https://github.com/tariqzahratahdi/MachineLearning/raw/refs/heads/main/datasets/house_price.csv'\n",
        "\n",
        "# making data frame from csv file\n",
        "data = pd.read_csv(url)\n",
        "\n",
        "# show dataframe\n",
        "data\n"
      ],
      "metadata": {
        "colab": {
          "base_uri": "https://localhost:8080/",
          "height": 363
        },
        "id": "Nd3W2bMCtbkV",
        "outputId": "aae87127-bb4a-4a41-eb87-a862b0c368c6"
      },
      "execution_count": null,
      "outputs": [
        {
          "output_type": "execute_result",
          "data": {
            "text/plain": [
              "   size   price\n",
              "0  1852  316000\n",
              "1  1975  277000\n",
              "2  1176  155000\n",
              "3  1550  253000\n",
              "4  1458  211000\n",
              "5  2689  329000\n",
              "6  2259  317000\n",
              "7  2763  360000\n",
              "8  1325  204000\n",
              "9  1992  250000"
            ],
            "text/html": [
              "\n",
              "  <div id=\"df-0a3859d2-e48a-4363-a294-d9931db412ef\" class=\"colab-df-container\">\n",
              "    <div>\n",
              "<style scoped>\n",
              "    .dataframe tbody tr th:only-of-type {\n",
              "        vertical-align: middle;\n",
              "    }\n",
              "\n",
              "    .dataframe tbody tr th {\n",
              "        vertical-align: top;\n",
              "    }\n",
              "\n",
              "    .dataframe thead th {\n",
              "        text-align: right;\n",
              "    }\n",
              "</style>\n",
              "<table border=\"1\" class=\"dataframe\">\n",
              "  <thead>\n",
              "    <tr style=\"text-align: right;\">\n",
              "      <th></th>\n",
              "      <th>size</th>\n",
              "      <th>price</th>\n",
              "    </tr>\n",
              "  </thead>\n",
              "  <tbody>\n",
              "    <tr>\n",
              "      <th>0</th>\n",
              "      <td>1852</td>\n",
              "      <td>316000</td>\n",
              "    </tr>\n",
              "    <tr>\n",
              "      <th>1</th>\n",
              "      <td>1975</td>\n",
              "      <td>277000</td>\n",
              "    </tr>\n",
              "    <tr>\n",
              "      <th>2</th>\n",
              "      <td>1176</td>\n",
              "      <td>155000</td>\n",
              "    </tr>\n",
              "    <tr>\n",
              "      <th>3</th>\n",
              "      <td>1550</td>\n",
              "      <td>253000</td>\n",
              "    </tr>\n",
              "    <tr>\n",
              "      <th>4</th>\n",
              "      <td>1458</td>\n",
              "      <td>211000</td>\n",
              "    </tr>\n",
              "    <tr>\n",
              "      <th>5</th>\n",
              "      <td>2689</td>\n",
              "      <td>329000</td>\n",
              "    </tr>\n",
              "    <tr>\n",
              "      <th>6</th>\n",
              "      <td>2259</td>\n",
              "      <td>317000</td>\n",
              "    </tr>\n",
              "    <tr>\n",
              "      <th>7</th>\n",
              "      <td>2763</td>\n",
              "      <td>360000</td>\n",
              "    </tr>\n",
              "    <tr>\n",
              "      <th>8</th>\n",
              "      <td>1325</td>\n",
              "      <td>204000</td>\n",
              "    </tr>\n",
              "    <tr>\n",
              "      <th>9</th>\n",
              "      <td>1992</td>\n",
              "      <td>250000</td>\n",
              "    </tr>\n",
              "  </tbody>\n",
              "</table>\n",
              "</div>\n",
              "    <div class=\"colab-df-buttons\">\n",
              "\n",
              "  <div class=\"colab-df-container\">\n",
              "    <button class=\"colab-df-convert\" onclick=\"convertToInteractive('df-0a3859d2-e48a-4363-a294-d9931db412ef')\"\n",
              "            title=\"Convert this dataframe to an interactive table.\"\n",
              "            style=\"display:none;\">\n",
              "\n",
              "  <svg xmlns=\"http://www.w3.org/2000/svg\" height=\"24px\" viewBox=\"0 -960 960 960\">\n",
              "    <path d=\"M120-120v-720h720v720H120Zm60-500h600v-160H180v160Zm220 220h160v-160H400v160Zm0 220h160v-160H400v160ZM180-400h160v-160H180v160Zm440 0h160v-160H620v160ZM180-180h160v-160H180v160Zm440 0h160v-160H620v160Z\"/>\n",
              "  </svg>\n",
              "    </button>\n",
              "\n",
              "  <style>\n",
              "    .colab-df-container {\n",
              "      display:flex;\n",
              "      gap: 12px;\n",
              "    }\n",
              "\n",
              "    .colab-df-convert {\n",
              "      background-color: #E8F0FE;\n",
              "      border: none;\n",
              "      border-radius: 50%;\n",
              "      cursor: pointer;\n",
              "      display: none;\n",
              "      fill: #1967D2;\n",
              "      height: 32px;\n",
              "      padding: 0 0 0 0;\n",
              "      width: 32px;\n",
              "    }\n",
              "\n",
              "    .colab-df-convert:hover {\n",
              "      background-color: #E2EBFA;\n",
              "      box-shadow: 0px 1px 2px rgba(60, 64, 67, 0.3), 0px 1px 3px 1px rgba(60, 64, 67, 0.15);\n",
              "      fill: #174EA6;\n",
              "    }\n",
              "\n",
              "    .colab-df-buttons div {\n",
              "      margin-bottom: 4px;\n",
              "    }\n",
              "\n",
              "    [theme=dark] .colab-df-convert {\n",
              "      background-color: #3B4455;\n",
              "      fill: #D2E3FC;\n",
              "    }\n",
              "\n",
              "    [theme=dark] .colab-df-convert:hover {\n",
              "      background-color: #434B5C;\n",
              "      box-shadow: 0px 1px 3px 1px rgba(0, 0, 0, 0.15);\n",
              "      filter: drop-shadow(0px 1px 2px rgba(0, 0, 0, 0.3));\n",
              "      fill: #FFFFFF;\n",
              "    }\n",
              "  </style>\n",
              "\n",
              "    <script>\n",
              "      const buttonEl =\n",
              "        document.querySelector('#df-0a3859d2-e48a-4363-a294-d9931db412ef button.colab-df-convert');\n",
              "      buttonEl.style.display =\n",
              "        google.colab.kernel.accessAllowed ? 'block' : 'none';\n",
              "\n",
              "      async function convertToInteractive(key) {\n",
              "        const element = document.querySelector('#df-0a3859d2-e48a-4363-a294-d9931db412ef');\n",
              "        const dataTable =\n",
              "          await google.colab.kernel.invokeFunction('convertToInteractive',\n",
              "                                                    [key], {});\n",
              "        if (!dataTable) return;\n",
              "\n",
              "        const docLinkHtml = 'Like what you see? Visit the ' +\n",
              "          '<a target=\"_blank\" href=https://colab.research.google.com/notebooks/data_table.ipynb>data table notebook</a>'\n",
              "          + ' to learn more about interactive tables.';\n",
              "        element.innerHTML = '';\n",
              "        dataTable['output_type'] = 'display_data';\n",
              "        await google.colab.output.renderOutput(dataTable, element);\n",
              "        const docLink = document.createElement('div');\n",
              "        docLink.innerHTML = docLinkHtml;\n",
              "        element.appendChild(docLink);\n",
              "      }\n",
              "    </script>\n",
              "  </div>\n",
              "\n",
              "\n",
              "    <div id=\"df-5f172b06-0226-4040-8073-c8737ee2a7a2\">\n",
              "      <button class=\"colab-df-quickchart\" onclick=\"quickchart('df-5f172b06-0226-4040-8073-c8737ee2a7a2')\"\n",
              "                title=\"Suggest charts\"\n",
              "                style=\"display:none;\">\n",
              "\n",
              "<svg xmlns=\"http://www.w3.org/2000/svg\" height=\"24px\"viewBox=\"0 0 24 24\"\n",
              "     width=\"24px\">\n",
              "    <g>\n",
              "        <path d=\"M19 3H5c-1.1 0-2 .9-2 2v14c0 1.1.9 2 2 2h14c1.1 0 2-.9 2-2V5c0-1.1-.9-2-2-2zM9 17H7v-7h2v7zm4 0h-2V7h2v10zm4 0h-2v-4h2v4z\"/>\n",
              "    </g>\n",
              "</svg>\n",
              "      </button>\n",
              "\n",
              "<style>\n",
              "  .colab-df-quickchart {\n",
              "      --bg-color: #E8F0FE;\n",
              "      --fill-color: #1967D2;\n",
              "      --hover-bg-color: #E2EBFA;\n",
              "      --hover-fill-color: #174EA6;\n",
              "      --disabled-fill-color: #AAA;\n",
              "      --disabled-bg-color: #DDD;\n",
              "  }\n",
              "\n",
              "  [theme=dark] .colab-df-quickchart {\n",
              "      --bg-color: #3B4455;\n",
              "      --fill-color: #D2E3FC;\n",
              "      --hover-bg-color: #434B5C;\n",
              "      --hover-fill-color: #FFFFFF;\n",
              "      --disabled-bg-color: #3B4455;\n",
              "      --disabled-fill-color: #666;\n",
              "  }\n",
              "\n",
              "  .colab-df-quickchart {\n",
              "    background-color: var(--bg-color);\n",
              "    border: none;\n",
              "    border-radius: 50%;\n",
              "    cursor: pointer;\n",
              "    display: none;\n",
              "    fill: var(--fill-color);\n",
              "    height: 32px;\n",
              "    padding: 0;\n",
              "    width: 32px;\n",
              "  }\n",
              "\n",
              "  .colab-df-quickchart:hover {\n",
              "    background-color: var(--hover-bg-color);\n",
              "    box-shadow: 0 1px 2px rgba(60, 64, 67, 0.3), 0 1px 3px 1px rgba(60, 64, 67, 0.15);\n",
              "    fill: var(--button-hover-fill-color);\n",
              "  }\n",
              "\n",
              "  .colab-df-quickchart-complete:disabled,\n",
              "  .colab-df-quickchart-complete:disabled:hover {\n",
              "    background-color: var(--disabled-bg-color);\n",
              "    fill: var(--disabled-fill-color);\n",
              "    box-shadow: none;\n",
              "  }\n",
              "\n",
              "  .colab-df-spinner {\n",
              "    border: 2px solid var(--fill-color);\n",
              "    border-color: transparent;\n",
              "    border-bottom-color: var(--fill-color);\n",
              "    animation:\n",
              "      spin 1s steps(1) infinite;\n",
              "  }\n",
              "\n",
              "  @keyframes spin {\n",
              "    0% {\n",
              "      border-color: transparent;\n",
              "      border-bottom-color: var(--fill-color);\n",
              "      border-left-color: var(--fill-color);\n",
              "    }\n",
              "    20% {\n",
              "      border-color: transparent;\n",
              "      border-left-color: var(--fill-color);\n",
              "      border-top-color: var(--fill-color);\n",
              "    }\n",
              "    30% {\n",
              "      border-color: transparent;\n",
              "      border-left-color: var(--fill-color);\n",
              "      border-top-color: var(--fill-color);\n",
              "      border-right-color: var(--fill-color);\n",
              "    }\n",
              "    40% {\n",
              "      border-color: transparent;\n",
              "      border-right-color: var(--fill-color);\n",
              "      border-top-color: var(--fill-color);\n",
              "    }\n",
              "    60% {\n",
              "      border-color: transparent;\n",
              "      border-right-color: var(--fill-color);\n",
              "    }\n",
              "    80% {\n",
              "      border-color: transparent;\n",
              "      border-right-color: var(--fill-color);\n",
              "      border-bottom-color: var(--fill-color);\n",
              "    }\n",
              "    90% {\n",
              "      border-color: transparent;\n",
              "      border-bottom-color: var(--fill-color);\n",
              "    }\n",
              "  }\n",
              "</style>\n",
              "\n",
              "      <script>\n",
              "        async function quickchart(key) {\n",
              "          const quickchartButtonEl =\n",
              "            document.querySelector('#' + key + ' button');\n",
              "          quickchartButtonEl.disabled = true;  // To prevent multiple clicks.\n",
              "          quickchartButtonEl.classList.add('colab-df-spinner');\n",
              "          try {\n",
              "            const charts = await google.colab.kernel.invokeFunction(\n",
              "                'suggestCharts', [key], {});\n",
              "          } catch (error) {\n",
              "            console.error('Error during call to suggestCharts:', error);\n",
              "          }\n",
              "          quickchartButtonEl.classList.remove('colab-df-spinner');\n",
              "          quickchartButtonEl.classList.add('colab-df-quickchart-complete');\n",
              "        }\n",
              "        (() => {\n",
              "          let quickchartButtonEl =\n",
              "            document.querySelector('#df-5f172b06-0226-4040-8073-c8737ee2a7a2 button');\n",
              "          quickchartButtonEl.style.display =\n",
              "            google.colab.kernel.accessAllowed ? 'block' : 'none';\n",
              "        })();\n",
              "      </script>\n",
              "    </div>\n",
              "\n",
              "  <div id=\"id_f0ea33ca-fc74-4e98-9821-9e5b77080533\">\n",
              "    <style>\n",
              "      .colab-df-generate {\n",
              "        background-color: #E8F0FE;\n",
              "        border: none;\n",
              "        border-radius: 50%;\n",
              "        cursor: pointer;\n",
              "        display: none;\n",
              "        fill: #1967D2;\n",
              "        height: 32px;\n",
              "        padding: 0 0 0 0;\n",
              "        width: 32px;\n",
              "      }\n",
              "\n",
              "      .colab-df-generate:hover {\n",
              "        background-color: #E2EBFA;\n",
              "        box-shadow: 0px 1px 2px rgba(60, 64, 67, 0.3), 0px 1px 3px 1px rgba(60, 64, 67, 0.15);\n",
              "        fill: #174EA6;\n",
              "      }\n",
              "\n",
              "      [theme=dark] .colab-df-generate {\n",
              "        background-color: #3B4455;\n",
              "        fill: #D2E3FC;\n",
              "      }\n",
              "\n",
              "      [theme=dark] .colab-df-generate:hover {\n",
              "        background-color: #434B5C;\n",
              "        box-shadow: 0px 1px 3px 1px rgba(0, 0, 0, 0.15);\n",
              "        filter: drop-shadow(0px 1px 2px rgba(0, 0, 0, 0.3));\n",
              "        fill: #FFFFFF;\n",
              "      }\n",
              "    </style>\n",
              "    <button class=\"colab-df-generate\" onclick=\"generateWithVariable('data')\"\n",
              "            title=\"Generate code using this dataframe.\"\n",
              "            style=\"display:none;\">\n",
              "\n",
              "  <svg xmlns=\"http://www.w3.org/2000/svg\" height=\"24px\"viewBox=\"0 0 24 24\"\n",
              "       width=\"24px\">\n",
              "    <path d=\"M7,19H8.4L18.45,9,17,7.55,7,17.6ZM5,21V16.75L18.45,3.32a2,2,0,0,1,2.83,0l1.4,1.43a1.91,1.91,0,0,1,.58,1.4,1.91,1.91,0,0,1-.58,1.4L9.25,21ZM18.45,9,17,7.55Zm-12,3A5.31,5.31,0,0,0,4.9,8.1,5.31,5.31,0,0,0,1,6.5,5.31,5.31,0,0,0,4.9,4.9,5.31,5.31,0,0,0,6.5,1,5.31,5.31,0,0,0,8.1,4.9,5.31,5.31,0,0,0,12,6.5,5.46,5.46,0,0,0,6.5,12Z\"/>\n",
              "  </svg>\n",
              "    </button>\n",
              "    <script>\n",
              "      (() => {\n",
              "      const buttonEl =\n",
              "        document.querySelector('#id_f0ea33ca-fc74-4e98-9821-9e5b77080533 button.colab-df-generate');\n",
              "      buttonEl.style.display =\n",
              "        google.colab.kernel.accessAllowed ? 'block' : 'none';\n",
              "\n",
              "      buttonEl.onclick = () => {\n",
              "        google.colab.notebook.generateWithVariable('data');\n",
              "      }\n",
              "      })();\n",
              "    </script>\n",
              "  </div>\n",
              "\n",
              "    </div>\n",
              "  </div>\n"
            ],
            "application/vnd.google.colaboratory.intrinsic+json": {
              "type": "dataframe",
              "variable_name": "data",
              "summary": "{\n  \"name\": \"data\",\n  \"rows\": 10,\n  \"fields\": [\n    {\n      \"column\": \"size\",\n      \"properties\": {\n        \"dtype\": \"number\",\n        \"std\": 546,\n        \"min\": 1176,\n        \"max\": 2763,\n        \"num_unique_values\": 10,\n        \"samples\": [\n          1325,\n          1975,\n          2689\n        ],\n        \"semantic_type\": \"\",\n        \"description\": \"\"\n      }\n    },\n    {\n      \"column\": \"price\",\n      \"properties\": {\n        \"dtype\": \"number\",\n        \"std\": 64659,\n        \"min\": 155000,\n        \"max\": 360000,\n        \"num_unique_values\": 10,\n        \"samples\": [\n          204000,\n          277000,\n          329000\n        ],\n        \"semantic_type\": \"\",\n        \"description\": \"\"\n      }\n    }\n  ]\n}"
            }
          },
          "metadata": {},
          "execution_count": 21
        }
      ]
    },
    {
      "cell_type": "markdown",
      "source": [
        "### Caculate the Slope and the Intercept\n",
        "\n",
        "We calculate the slope using the following formula:\n",
        "\n",
        "${\\displaystyle b_1 = r \\frac{\\sigma_y}{\\sigma_x}}$\n",
        "\n",
        "where\n",
        "* $r$ is the correlation coefficient between the two variables $x$ and $y$,\n",
        "* $\\sigma_x$ is the standard deviation of the varaiable $x$,\n",
        "* $\\sigma_y$ is the standard deviation of the varaiable $y$.\n",
        "\n",
        "#### Correlation Coefficient\n",
        "\n",
        "We use the `pandas.corr()` method to calculate the correlation coefficient between two columns of a DataFrame."
      ],
      "metadata": {
        "id": "IRkKxpxwu8p6"
      }
    },
    {
      "cell_type": "code",
      "source": [
        "# correlation coefficient\n",
        "r = data['size'].corr(data['price'])\n",
        "\n",
        "print(r)"
      ],
      "metadata": {
        "colab": {
          "base_uri": "https://localhost:8080/"
        },
        "id": "bvH3TZ6Izcoe",
        "outputId": "5720a942-7604-4c75-850d-046e643ed792"
      },
      "execution_count": null,
      "outputs": [
        {
          "output_type": "stream",
          "name": "stdout",
          "text": [
            "0.9152490111469164\n"
          ]
        }
      ]
    },
    {
      "cell_type": "markdown",
      "source": [
        "#### Standard Deviation\n",
        "\n",
        "We use the population standard deviation.\n",
        "\n",
        "We use the pandas `pandas.std()` method to calculate the standard deviation and set the parameter delta degrees of freedom to zeo: `ddof=0`.\n",
        "\n",
        "Standard deviation of the response variable (price):"
      ],
      "metadata": {
        "id": "7vwWEefUzVg6"
      }
    },
    {
      "cell_type": "code",
      "source": [
        "std_y = data['price'].std(ddof=0)\n",
        "\n",
        "print(std_y)"
      ],
      "metadata": {
        "colab": {
          "base_uri": "https://localhost:8080/"
        },
        "id": "WwdD-Z1curGh",
        "outputId": "8d47586e-cfb8-4daf-9783-9c095fb77629"
      },
      "execution_count": null,
      "outputs": [
        {
          "output_type": "stream",
          "name": "stdout",
          "text": [
            "61341.340057093636\n"
          ]
        }
      ]
    },
    {
      "cell_type": "markdown",
      "source": [
        "Standard deviation of the predictor variable(size):"
      ],
      "metadata": {
        "id": "2M7ClEPjwcI8"
      }
    },
    {
      "cell_type": "code",
      "source": [
        "std_x = data['size'].std(ddof=0)\n",
        "\n",
        "print(std_x)"
      ],
      "metadata": {
        "colab": {
          "base_uri": "https://localhost:8080/"
        },
        "id": "VBr6nUaGwitw",
        "outputId": "7c3a333f-04e4-4a50-8581-76f61abebc8a"
      },
      "execution_count": null,
      "outputs": [
        {
          "output_type": "stream",
          "name": "stdout",
          "text": [
            "518.1772766148666\n"
          ]
        }
      ]
    },
    {
      "cell_type": "markdown",
      "source": [
        "#### Slope\n",
        "\n",
        "We calculate the slope using the following formula:\n",
        "\n",
        "${\\displaystyle b_1 = r \\frac{\\sigma_y}{\\sigma_x}}$\n"
      ],
      "metadata": {
        "id": "vMre006O0zbg"
      }
    },
    {
      "cell_type": "code",
      "source": [
        "# calculate the slope\n",
        "slope = r * (std_y / std_x)\n",
        "\n",
        "print(slope)"
      ],
      "metadata": {
        "colab": {
          "base_uri": "https://localhost:8080/"
        },
        "id": "iiPRp9I30-2r",
        "outputId": "65e61780-1213-4d59-89b1-207e2a73f265"
      },
      "execution_count": null,
      "outputs": [
        {
          "output_type": "stream",
          "name": "stdout",
          "text": [
            "108.3463196156505\n"
          ]
        }
      ]
    },
    {
      "cell_type": "markdown",
      "source": [
        "#### Intercept\n",
        "\n",
        "We calculate the intercept using the following formula:\n",
        "\n",
        "${\\displaystyle b_0 = \\bar{y} - b_1 . \\bar{x}}$\n",
        "\n",
        "where\n",
        "* $\\bar{y}$ is the mean of the variable $y$,\n",
        "* $\\bar{x}$ is the mean of the variable $x$.\n"
      ],
      "metadata": {
        "id": "zvEs-6Pd2A5e"
      }
    },
    {
      "cell_type": "code",
      "source": [
        "# calculate the intercept\n",
        "intercept = data['price'].mean() - slope * data['size'].mean()\n",
        "\n",
        "print(intercept)"
      ],
      "metadata": {
        "colab": {
          "base_uri": "https://localhost:8080/"
        },
        "id": "kZw7TTlK22VZ",
        "outputId": "45985816-ecd1-4190-c2ef-76a93cbafcad"
      },
      "execution_count": null,
      "outputs": [
        {
          "output_type": "stream",
          "name": "stdout",
          "text": [
            "60919.44208376299\n"
          ]
        }
      ]
    },
    {
      "cell_type": "markdown",
      "source": [
        "### Visualization\n",
        "\n",
        "The following figure shows a scatter plot of price data versus size data, and a line plot of the linear regression line."
      ],
      "metadata": {
        "id": "bKGQPUpDSsEU"
      }
    },
    {
      "cell_type": "code",
      "source": [
        "# create figure and axes\n",
        "fig, ax = plt.subplots()\n",
        "ax.set_title('Linear Regression')\n",
        "ax.set_xlabel('Size')\n",
        "ax.set_ylabel('Price')\n",
        "\n",
        "# scatter plot\n",
        "ax.scatter(data['size'], data['price'])\n",
        "\n",
        "# plot linear regression line\n",
        "ax.plot(data['size'], intercept + slope * data['size'], color='orange')\n",
        "\n",
        "# show plot\n",
        "plt.show()"
      ],
      "metadata": {
        "colab": {
          "base_uri": "https://localhost:8080/",
          "height": 472
        },
        "id": "-gpywR0MSxr4",
        "outputId": "c19106e0-14bf-445d-dc52-b1c540186130"
      },
      "execution_count": null,
      "outputs": [
        {
          "output_type": "display_data",
          "data": {
            "text/plain": [
              "<Figure size 640x480 with 1 Axes>"
            ],
            "image/png": "[encoded data removed]"
          },
          "metadata": {}
        }
      ]
    },
    {
      "cell_type": "markdown",
      "source": [
        "### Perform Linear Regression Using NumPy\n",
        "\n",
        "We use `numpy.polyfit()` function to calculate the slope ($b_1$) and intercept ($b_0$) of the regression line.\n",
        "\n",
        "`numpy.polyfit()` performs a least-squares polynomial fit to data points.\n",
        "\n",
        "It takes $x$ and $y$ coordinates of data points and a desired polynomial degree as input and returns the coefficients of the fitted polynomial.\n",
        "\n",
        "*Syntax:*\n",
        "\n",
        "`np.polyfit(x, y, deg)`\n",
        "\n",
        "*Parameters:*\n",
        "\n",
        "* `x`: The x-coordinates of the data points.\n",
        "* `y`: The y-coordinates of the data points.\n",
        "* `deg`: The degree of the polynomial to fit. For example, `deg=1` for a linear fit, `deg=2` for a quadratic fit, and so on.\n",
        "\n",
        "*Output:*\n",
        "\n",
        "It returns an array of coefficients `p` for the polynomial, ordered from the highest degree term to the lowest degree term (e.g., for a degree 2 polynomial, `p[0]` is the coefficient of $x^{2}$, `p[1]` is the coefficient of $x$, and `p[2]` is the constant term)."
      ],
      "metadata": {
        "id": "6nXFcWCoZGTn"
      }
    },
    {
      "cell_type": "code",
      "source": [
        "# calculate slope and intercept\n",
        "slope, intercept = np.polyfit(data['size'], data['price'], 1)\n",
        "\n",
        "print('slope: ', slope)\n",
        "print('intercept: ', intercept)"
      ],
      "metadata": {
        "colab": {
          "base_uri": "https://localhost:8080/"
        },
        "id": "nhXJEJ3GZ_AZ",
        "outputId": "c1ae321b-53e7-41a5-b631-4e86ba1ac52a"
      },
      "execution_count": null,
      "outputs": [
        {
          "output_type": "stream",
          "name": "stdout",
          "text": [
            "slope:  108.34631961565056\n",
            "intercept:  60919.44208376292\n"
          ]
        }
      ]
    },
    {
      "cell_type": "markdown",
      "source": [
        "## Statistical Metrics\n",
        "\n",
        "### Mean Squared Error\n",
        "\n",
        "Mean Squared Error (MSE) is a statistical metric that measures the average of the squared differences between predicted and actual values in a model or dataset.\n",
        "\n",
        "A lower MSE indicates a better fit, meaning the model's predictions are closer to the true values.\n",
        "\n",
        "It's calculated by summing the squared errors and dividing by the total number of data points, and it penalizes large errors more heavily than small errors.\n",
        "\n",
        "The formula for Mean Squared Error is:\n",
        "$$\\text{MSE}=\\frac{1}{n}\\sum _{i=1}^{n}(\\text{observed}_{i}-\\text{predicted}_{i})^{2}$$\n",
        "Where:\n",
        "* $n$ is the number of data points.\n",
        "* $\\text{observed}_{i}$ is the $i$-th actual or observed value.\n",
        "* $\\text{predicted}_{i}$ is the $i$-th predicted value.\n",
        "\n",
        "#### Why is it important?\n",
        "\n",
        "* **Model comparison:** A lower MSE generally indicates a better-performing model.\n",
        "* **Outlier detection:** Due to the squaring of errors, MSE is sensitive to outliers, which can highlight potential problems in the data or model.\n",
        "* **Practical applications:** It's widely used in regression analysis to assess the goodness of fit of a model and to find the best-fitting regression line."
      ],
      "metadata": {
        "id": "tKOAiM-y2shU"
      }
    }
  ]
}