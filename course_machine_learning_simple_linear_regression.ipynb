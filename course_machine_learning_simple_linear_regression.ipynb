{
  "nbformat": 4,
  "nbformat_minor": 0,
  "metadata": {
    "colab": {
      "provenance": [],
      "authorship_tag": "ABX9TyNjVKNK0IamK73y2FPforyP"
    },
    "kernelspec": {
      "name": "python3",
      "display_name": "Python 3"
    },
    "language_info": {
      "name": "python"
    }
  },
  "cells": [
    {
      "cell_type": "markdown",
      "source": [
        "# Simple Linear Regression\n",
        "\n",
        "Simple Linear regression is a statistical and machine learning method that models the relationship between one dependent (response) variable and one independent (predictor) variable by fitting a straight line to the data.\n",
        "\n",
        "The straight line equation is used to predict values of the response variable from the values of the predictor variable and understand the linear connection between.\n",
        "\n",
        "It works by finding the \"best-fit\" linear equation that minimizes the distance (residuals) between the actual data points and the predicted points on the line, allowing for the prediction of a continuous outcome based on known predictor variables.\n",
        "\n",
        "It identifies the line of best fit by minimizing the sum of the squared differences (residuals) between the observed and predicted values, a method known as Ordinary Least Squares (OLS).\n",
        "\n",
        "The goal is to find the equation of this line, which includes a slope and an intercept, to best represent the data points and make informed predictions.\n",
        "\n",
        "The equation for simple linear regression is typically written as:\n",
        "\n",
        "$y = b_0 + b_1x$\n",
        "\n",
        "where\n",
        "* $y$ is the estimated or predicted value of the dependent variable (response variable),\n",
        "* $b_0$ is the y-intercept, which represents the predicted value of $y$ when $x$ is zero,\n",
        "* $b_1$ is the slope of the line, shows the average change in $y$ for a one-unit increase in $x$,\n",
        "* $x$ is the independent variable, or the predictor variable.\n",
        "\n",
        "The following figure illustrates a simple linear regression model:"
      ],
      "metadata": {
        "id": "ZkoKyRZ6iuq0"
      }
    },
    {
      "cell_type": "markdown",
      "source": [
        "![course-machine-learning-linear-regression.svg](data:image/svg+xml;base64,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)"
      ],
      "metadata": {
        "id": "gXkGAHqCy0pT"
      }
    },
    {
      "cell_type": "markdown",
      "source": [
        "## Load Dataset\n",
        "\n",
        "We will use a dataset that contains data concerning house sizes and prices."
      ],
      "metadata": {
        "id": "gMrJpo6VtOZA"
      }
    },
    {
      "cell_type": "code",
      "source": [
        "# imports\n",
        "import numpy as np\n",
        "import pandas as pd\n",
        "import matplotlib.pyplot as plt\n",
        "\n",
        "# csv file location\n",
        "url = 'https://github.com/tariqzahratahdi/MachineLearning/raw/refs/heads/main/datasets/house_price.csv'\n",
        "\n",
        "# making data frame from csv file\n",
        "data = pd.read_csv(url)\n",
        "\n",
        "# show dataframe\n",
        "data\n"
      ],
      "metadata": {
        "colab": {
          "base_uri": "https://localhost:8080/",
          "height": 363
        },
        "id": "Nd3W2bMCtbkV",
        "outputId": "aae87127-bb4a-4a41-eb87-a862b0c368c6"
      },
      "execution_count": null,
      "outputs": [
        {
          "output_type": "execute_result",
          "data": {
            "text/plain": [
              "   size   price\n",
              "0  1852  316000\n",
              "1  1975  277000\n",
              "2  1176  155000\n",
              "3  1550  253000\n",
              "4  1458  211000\n",
              "5  2689  329000\n",
              "6  2259  317000\n",
              "7  2763  360000\n",
              "8  1325  204000\n",
              "9  1992  250000"
            ],
            "text/html": [
              "\n",
              "  <div id=\"df-0a3859d2-e48a-4363-a294-d9931db412ef\" class=\"colab-df-container\">\n",
              "    <div>\n",
              "<style scoped>\n",
              "    .dataframe tbody tr th:only-of-type {\n",
              "        vertical-align: middle;\n",
              "    }\n",
              "\n",
              "    .dataframe tbody tr th {\n",
              "        vertical-align: top;\n",
              "    }\n",
              "\n",
              "    .dataframe thead th {\n",
              "        text-align: right;\n",
              "    }\n",
              "</style>\n",
              "<table border=\"1\" class=\"dataframe\">\n",
              "  <thead>\n",
              "    <tr style=\"text-align: right;\">\n",
              "      <th></th>\n",
              "      <th>size</th>\n",
              "      <th>price</th>\n",
              "    </tr>\n",
              "  </thead>\n",
              "  <tbody>\n",
              "    <tr>\n",
              "      <th>0</th>\n",
              "      <td>1852</td>\n",
              "      <td>316000</td>\n",
              "    </tr>\n",
              "    <tr>\n",
              "      <th>1</th>\n",
              "      <td>1975</td>\n",
              "      <td>277000</td>\n",
              "    </tr>\n",
              "    <tr>\n",
              "      <th>2</th>\n",
              "      <td>1176</td>\n",
              "      <td>155000</td>\n",
              "    </tr>\n",
              "    <tr>\n",
              "      <th>3</th>\n",
              "      <td>1550</td>\n",
              "      <td>253000</td>\n",
              "    </tr>\n",
              "    <tr>\n",
              "      <th>4</th>\n",
              "      <td>1458</td>\n",
              "      <td>211000</td>\n",
              "    </tr>\n",
              "    <tr>\n",
              "      <th>5</th>\n",
              "      <td>2689</td>\n",
              "      <td>329000</td>\n",
              "    </tr>\n",
              "    <tr>\n",
              "      <th>6</th>\n",
              "      <td>2259</td>\n",
              "      <td>317000</td>\n",
              "    </tr>\n",
              "    <tr>\n",
              "      <th>7</th>\n",
              "      <td>2763</td>\n",
              "      <td>360000</td>\n",
              "    </tr>\n",
              "    <tr>\n",
              "      <th>8</th>\n",
              "      <td>1325</td>\n",
              "      <td>204000</td>\n",
              "    </tr>\n",
              "    <tr>\n",
              "      <th>9</th>\n",
              "      <td>1992</td>\n",
              "      <td>250000</td>\n",
              "    </tr>\n",
              "  </tbody>\n",
              "</table>\n",
              "</div>\n",
              "    <div class=\"colab-df-buttons\">\n",
              "\n",
              "  <div class=\"colab-df-container\">\n",
              "    <button class=\"colab-df-convert\" onclick=\"convertToInteractive('df-0a3859d2-e48a-4363-a294-d9931db412ef')\"\n",
              "            title=\"Convert this dataframe to an interactive table.\"\n",
              "            style=\"display:none;\">\n",
              "\n",
              "  <svg xmlns=\"http://www.w3.org/2000/svg\" height=\"24px\" viewBox=\"0 -960 960 960\">\n",
              "    <path d=\"M120-120v-720h720v720H120Zm60-500h600v-160H180v160Zm220 220h160v-160H400v160Zm0 220h160v-160H400v160ZM180-400h160v-160H180v160Zm440 0h160v-160H620v160ZM180-180h160v-160H180v160Zm440 0h160v-160H620v160Z\"/>\n",
              "  </svg>\n",
              "    </button>\n",
              "\n",
              "  <style>\n",
              "    .colab-df-container {\n",
              "      display:flex;\n",
              "      gap: 12px;\n",
              "    }\n",
              "\n",
              "    .colab-df-convert {\n",
              "      background-color: #E8F0FE;\n",
              "      border: none;\n",
              "      border-radius: 50%;\n",
              "      cursor: pointer;\n",
              "      display: none;\n",
              "      fill: #1967D2;\n",
              "      height: 32px;\n",
              "      padding: 0 0 0 0;\n",
              "      width: 32px;\n",
              "    }\n",
              "\n",
              "    .colab-df-convert:hover {\n",
              "      background-color: #E2EBFA;\n",
              "      box-shadow: 0px 1px 2px rgba(60, 64, 67, 0.3), 0px 1px 3px 1px rgba(60, 64, 67, 0.15);\n",
              "      fill: #174EA6;\n",
              "    }\n",
              "\n",
              "    .colab-df-buttons div {\n",
              "      margin-bottom: 4px;\n",
              "    }\n",
              "\n",
              "    [theme=dark] .colab-df-convert {\n",
              "      background-color: #3B4455;\n",
              "      fill: #D2E3FC;\n",
              "    }\n",
              "\n",
              "    [theme=dark] .colab-df-convert:hover {\n",
              "      background-color: #434B5C;\n",
              "      box-shadow: 0px 1px 3px 1px rgba(0, 0, 0, 0.15);\n",
              "      filter: drop-shadow(0px 1px 2px rgba(0, 0, 0, 0.3));\n",
              "      fill: #FFFFFF;\n",
              "    }\n",
              "  </style>\n",
              "\n",
              "    <script>\n",
              "      const buttonEl =\n",
              "        document.querySelector('#df-0a3859d2-e48a-4363-a294-d9931db412ef button.colab-df-convert');\n",
              "      buttonEl.style.display =\n",
              "        google.colab.kernel.accessAllowed ? 'block' : 'none';\n",
              "\n",
              "      async function convertToInteractive(key) {\n",
              "        const element = document.querySelector('#df-0a3859d2-e48a-4363-a294-d9931db412ef');\n",
              "        const dataTable =\n",
              "          await google.colab.kernel.invokeFunction('convertToInteractive',\n",
              "                                                    [key], {});\n",
              "        if (!dataTable) return;\n",
              "\n",
              "        const docLinkHtml = 'Like what you see? Visit the ' +\n",
              "          '<a target=\"_blank\" href=https://colab.research.google.com/notebooks/data_table.ipynb>data table notebook</a>'\n",
              "          + ' to learn more about interactive tables.';\n",
              "        element.innerHTML = '';\n",
              "        dataTable['output_type'] = 'display_data';\n",
              "        await google.colab.output.renderOutput(dataTable, element);\n",
              "        const docLink = document.createElement('div');\n",
              "        docLink.innerHTML = docLinkHtml;\n",
              "        element.appendChild(docLink);\n",
              "      }\n",
              "    </script>\n",
              "  </div>\n",
              "\n",
              "\n",
              "    <div id=\"df-5f172b06-0226-4040-8073-c8737ee2a7a2\">\n",
              "      <button class=\"colab-df-quickchart\" onclick=\"quickchart('df-5f172b06-0226-4040-8073-c8737ee2a7a2')\"\n",
              "                title=\"Suggest charts\"\n",
              "                style=\"display:none;\">\n",
              "\n",
              "<svg xmlns=\"http://www.w3.org/2000/svg\" height=\"24px\"viewBox=\"0 0 24 24\"\n",
              "     width=\"24px\">\n",
              "    <g>\n",
              "        <path d=\"M19 3H5c-1.1 0-2 .9-2 2v14c0 1.1.9 2 2 2h14c1.1 0 2-.9 2-2V5c0-1.1-.9-2-2-2zM9 17H7v-7h2v7zm4 0h-2V7h2v10zm4 0h-2v-4h2v4z\"/>\n",
              "    </g>\n",
              "</svg>\n",
              "      </button>\n",
              "\n",
              "<style>\n",
              "  .colab-df-quickchart {\n",
              "      --bg-color: #E8F0FE;\n",
              "      --fill-color: #1967D2;\n",
              "      --hover-bg-color: #E2EBFA;\n",
              "      --hover-fill-color: #174EA6;\n",
              "      --disabled-fill-color: #AAA;\n",
              "      --disabled-bg-color: #DDD;\n",
              "  }\n",
              "\n",
              "  [theme=dark] .colab-df-quickchart {\n",
              "      --bg-color: #3B4455;\n",
              "      --fill-color: #D2E3FC;\n",
              "      --hover-bg-color: #434B5C;\n",
              "      --hover-fill-color: #FFFFFF;\n",
              "      --disabled-bg-color: #3B4455;\n",
              "      --disabled-fill-color: #666;\n",
              "  }\n",
              "\n",
              "  .colab-df-quickchart {\n",
              "    background-color: var(--bg-color);\n",
              "    border: none;\n",
              "    border-radius: 50%;\n",
              "    cursor: pointer;\n",
              "    display: none;\n",
              "    fill: var(--fill-color);\n",
              "    height: 32px;\n",
              "    padding: 0;\n",
              "    width: 32px;\n",
              "  }\n",
              "\n",
              "  .colab-df-quickchart:hover {\n",
              "    background-color: var(--hover-bg-color);\n",
              "    box-shadow: 0 1px 2px rgba(60, 64, 67, 0.3), 0 1px 3px 1px rgba(60, 64, 67, 0.15);\n",
              "    fill: var(--button-hover-fill-color);\n",
              "  }\n",
              "\n",
              "  .colab-df-quickchart-complete:disabled,\n",
              "  .colab-df-quickchart-complete:disabled:hover {\n",
              "    background-color: var(--disabled-bg-color);\n",
              "    fill: var(--disabled-fill-color);\n",
              "    box-shadow: none;\n",
              "  }\n",
              "\n",
              "  .colab-df-spinner {\n",
              "    border: 2px solid var(--fill-color);\n",
              "    border-color: transparent;\n",
              "    border-bottom-color: var(--fill-color);\n",
              "    animation:\n",
              "      spin 1s steps(1) infinite;\n",
              "  }\n",
              "\n",
              "  @keyframes spin {\n",
              "    0% {\n",
              "      border-color: transparent;\n",
              "      border-bottom-color: var(--fill-color);\n",
              "      border-left-color: var(--fill-color);\n",
              "    }\n",
              "    20% {\n",
              "      border-color: transparent;\n",
              "      border-left-color: var(--fill-color);\n",
              "      border-top-color: var(--fill-color);\n",
              "    }\n",
              "    30% {\n",
              "      border-color: transparent;\n",
              "      border-left-color: var(--fill-color);\n",
              "      border-top-color: var(--fill-color);\n",
              "      border-right-color: var(--fill-color);\n",
              "    }\n",
              "    40% {\n",
              "      border-color: transparent;\n",
              "      border-right-color: var(--fill-color);\n",
              "      border-top-color: var(--fill-color);\n",
              "    }\n",
              "    60% {\n",
              "      border-color: transparent;\n",
              "      border-right-color: var(--fill-color);\n",
              "    }\n",
              "    80% {\n",
              "      border-color: transparent;\n",
              "      border-right-color: var(--fill-color);\n",
              "      border-bottom-color: var(--fill-color);\n",
              "    }\n",
              "    90% {\n",
              "      border-color: transparent;\n",
              "      border-bottom-color: var(--fill-color);\n",
              "    }\n",
              "  }\n",
              "</style>\n",
              "\n",
              "      <script>\n",
              "        async function quickchart(key) {\n",
              "          const quickchartButtonEl =\n",
              "            document.querySelector('#' + key + ' button');\n",
              "          quickchartButtonEl.disabled = true;  // To prevent multiple clicks.\n",
              "          quickchartButtonEl.classList.add('colab-df-spinner');\n",
              "          try {\n",
              "            const charts = await google.colab.kernel.invokeFunction(\n",
              "                'suggestCharts', [key], {});\n",
              "          } catch (error) {\n",
              "            console.error('Error during call to suggestCharts:', error);\n",
              "          }\n",
              "          quickchartButtonEl.classList.remove('colab-df-spinner');\n",
              "          quickchartButtonEl.classList.add('colab-df-quickchart-complete');\n",
              "        }\n",
              "        (() => {\n",
              "          let quickchartButtonEl =\n",
              "            document.querySelector('#df-5f172b06-0226-4040-8073-c8737ee2a7a2 button');\n",
              "          quickchartButtonEl.style.display =\n",
              "            google.colab.kernel.accessAllowed ? 'block' : 'none';\n",
              "        })();\n",
              "      </script>\n",
              "    </div>\n",
              "\n",
              "  <div id=\"id_f0ea33ca-fc74-4e98-9821-9e5b77080533\">\n",
              "    <style>\n",
              "      .colab-df-generate {\n",
              "        background-color: #E8F0FE;\n",
              "        border: none;\n",
              "        border-radius: 50%;\n",
              "        cursor: pointer;\n",
              "        display: none;\n",
              "        fill: #1967D2;\n",
              "        height: 32px;\n",
              "        padding: 0 0 0 0;\n",
              "        width: 32px;\n",
              "      }\n",
              "\n",
              "      .colab-df-generate:hover {\n",
              "        background-color: #E2EBFA;\n",
              "        box-shadow: 0px 1px 2px rgba(60, 64, 67, 0.3), 0px 1px 3px 1px rgba(60, 64, 67, 0.15);\n",
              "        fill: #174EA6;\n",
              "      }\n",
              "\n",
              "      [theme=dark] .colab-df-generate {\n",
              "        background-color: #3B4455;\n",
              "        fill: #D2E3FC;\n",
              "      }\n",
              "\n",
              "      [theme=dark] .colab-df-generate:hover {\n",
              "        background-color: #434B5C;\n",
              "        box-shadow: 0px 1px 3px 1px rgba(0, 0, 0, 0.15);\n",
              "        filter: drop-shadow(0px 1px 2px rgba(0, 0, 0, 0.3));\n",
              "        fill: #FFFFFF;\n",
              "      }\n",
              "    </style>\n",
              "    <button class=\"colab-df-generate\" onclick=\"generateWithVariable('data')\"\n",
              "            title=\"Generate code using this dataframe.\"\n",
              "            style=\"display:none;\">\n",
              "\n",
              "  <svg xmlns=\"http://www.w3.org/2000/svg\" height=\"24px\"viewBox=\"0 0 24 24\"\n",
              "       width=\"24px\">\n",
              "    <path d=\"M7,19H8.4L18.45,9,17,7.55,7,17.6ZM5,21V16.75L18.45,3.32a2,2,0,0,1,2.83,0l1.4,1.43a1.91,1.91,0,0,1,.58,1.4,1.91,1.91,0,0,1-.58,1.4L9.25,21ZM18.45,9,17,7.55Zm-12,3A5.31,5.31,0,0,0,4.9,8.1,5.31,5.31,0,0,0,1,6.5,5.31,5.31,0,0,0,4.9,4.9,5.31,5.31,0,0,0,6.5,1,5.31,5.31,0,0,0,8.1,4.9,5.31,5.31,0,0,0,12,6.5,5.46,5.46,0,0,0,6.5,12Z\"/>\n",
              "  </svg>\n",
              "    </button>\n",
              "    <script>\n",
              "      (() => {\n",
              "      const buttonEl =\n",
              "        document.querySelector('#id_f0ea33ca-fc74-4e98-9821-9e5b77080533 button.colab-df-generate');\n",
              "      buttonEl.style.display =\n",
              "        google.colab.kernel.accessAllowed ? 'block' : 'none';\n",
              "\n",
              "      buttonEl.onclick = () => {\n",
              "        google.colab.notebook.generateWithVariable('data');\n",
              "      }\n",
              "      })();\n",
              "    </script>\n",
              "  </div>\n",
              "\n",
              "    </div>\n",
              "  </div>\n"
            ],
            "application/vnd.google.colaboratory.intrinsic+json": {
              "type": "dataframe",
              "variable_name": "data",
              "summary": "{\n  \"name\": \"data\",\n  \"rows\": 10,\n  \"fields\": [\n    {\n      \"column\": \"size\",\n      \"properties\": {\n        \"dtype\": \"number\",\n        \"std\": 546,\n        \"min\": 1176,\n        \"max\": 2763,\n        \"num_unique_values\": 10,\n        \"samples\": [\n          1325,\n          1975,\n          2689\n        ],\n        \"semantic_type\": \"\",\n        \"description\": \"\"\n      }\n    },\n    {\n      \"column\": \"price\",\n      \"properties\": {\n        \"dtype\": \"number\",\n        \"std\": 64659,\n        \"min\": 155000,\n        \"max\": 360000,\n        \"num_unique_values\": 10,\n        \"samples\": [\n          204000,\n          277000,\n          329000\n        ],\n        \"semantic_type\": \"\",\n        \"description\": \"\"\n      }\n    }\n  ]\n}"
            }
          },
          "metadata": {},
          "execution_count": 21
        }
      ]
    },
    {
      "cell_type": "markdown",
      "source": [
        "## Caculating the Slope and the Intercept\n",
        "\n",
        "We calculate the slope using the following formula:\n",
        "\n",
        "${\\displaystyle b_1 = r \\frac{\\sigma_y}{\\sigma_x}}$\n",
        "\n",
        "where\n",
        "* $r$ is the correlation coefficient between the two variables $x$ and $y$,\n",
        "* $\\sigma_x$ is the standard deviation of the varaiable $x$,\n",
        "* $\\sigma_y$ is the standard deviation of the varaiable $y$.\n",
        "\n",
        "### Correlation Coefficient\n",
        "\n",
        "Given paired data $\\{(x_1,y_1), \\ldots , (x_n,y_n) \\}$\n",
        "consisting of $n$ pairs, Pearson's correlation coefficient $r_{xy}$ is defined as\n",
        "\n",
        "$$\n",
        "r_{xy}=\n",
        "\\frac\n",
        "{\n",
        "  \\sum _{i=1}^{n}(x_{i}-{\\bar {x}})(y_{i}-{\\bar {y}})\n",
        "}\n",
        "{\n",
        "  \\sqrt {\\sum _{i=1}^{n}(x_{i}-\\bar {x})^{2}}\n",
        "  \\sqrt {\\sum _{i=1}^{n}(y_{i}-\\bar {y})^{2}}\n",
        "}\n",
        "$$\n",
        "\n",
        "where\n",
        "* $n$ is the sample size,\n",
        "* $x_i,y_i$ are the individual sample points indexed with $i$,\n",
        "* $\\bar{x}=\\frac{1}{n}\\sum_{i=1}^{n}x_{i}$ (the sample mean),\n",
        "* $\\bar{y}=\\frac{1}{n}\\sum_{i=1}^{n}y_{i}$ (the sample mean).\n",
        "\n",
        "#### Calculating Correlation Coefficient in Pandas\n",
        "\n",
        "We use the `pandas.corr()` method to calculate the correlation coefficient between two columns of a DataFrame."
      ],
      "metadata": {
        "id": "IRkKxpxwu8p6"
      }
    },
    {
      "cell_type": "code",
      "source": [
        "# correlation coefficient\n",
        "r = data['size'].corr(data['price'])\n",
        "\n",
        "print(r)"
      ],
      "metadata": {
        "colab": {
          "base_uri": "https://localhost:8080/"
        },
        "id": "bvH3TZ6Izcoe",
        "outputId": "5720a942-7604-4c75-850d-046e643ed792"
      },
      "execution_count": null,
      "outputs": [
        {
          "output_type": "stream",
          "name": "stdout",
          "text": [
            "0.9152490111469164\n"
          ]
        }
      ]
    },
    {
      "cell_type": "markdown",
      "source": [
        "### Standard Deviation\n",
        "\n",
        "We use the population standard deviation.\n",
        "\n",
        "We use the pandas `std()` method to calculate the standard deviation and set the parameter delta degrees of freedom to zeo: `ddof=0`.\n",
        "\n",
        "Standard deviation of the response variable (price):"
      ],
      "metadata": {
        "id": "7vwWEefUzVg6"
      }
    },
    {
      "cell_type": "code",
      "source": [
        "std_y = data['price'].std(ddof=0)\n",
        "\n",
        "print(std_y)"
      ],
      "metadata": {
        "colab": {
          "base_uri": "https://localhost:8080/"
        },
        "id": "WwdD-Z1curGh",
        "outputId": "8d47586e-cfb8-4daf-9783-9c095fb77629"
      },
      "execution_count": null,
      "outputs": [
        {
          "output_type": "stream",
          "name": "stdout",
          "text": [
            "61341.340057093636\n"
          ]
        }
      ]
    },
    {
      "cell_type": "markdown",
      "source": [
        "Standard deviation of the predictor variable(size):"
      ],
      "metadata": {
        "id": "2M7ClEPjwcI8"
      }
    },
    {
      "cell_type": "code",
      "source": [
        "std_x = data['size'].std(ddof=0)\n",
        "\n",
        "print(std_x)"
      ],
      "metadata": {
        "colab": {
          "base_uri": "https://localhost:8080/"
        },
        "id": "VBr6nUaGwitw",
        "outputId": "7c3a333f-04e4-4a50-8581-76f61abebc8a"
      },
      "execution_count": null,
      "outputs": [
        {
          "output_type": "stream",
          "name": "stdout",
          "text": [
            "518.1772766148666\n"
          ]
        }
      ]
    },
    {
      "cell_type": "markdown",
      "source": [
        "### Slope\n",
        "\n",
        "We calculate the slope using the following formula:\n",
        "\n",
        "${\\displaystyle b_1 = r \\frac{\\sigma_y}{\\sigma_x}}$\n"
      ],
      "metadata": {
        "id": "vMre006O0zbg"
      }
    },
    {
      "cell_type": "code",
      "source": [
        "# calculate the slope\n",
        "slope = r * (std_y / std_x)\n",
        "\n",
        "print(slope)"
      ],
      "metadata": {
        "colab": {
          "base_uri": "https://localhost:8080/"
        },
        "id": "iiPRp9I30-2r",
        "outputId": "65e61780-1213-4d59-89b1-207e2a73f265"
      },
      "execution_count": null,
      "outputs": [
        {
          "output_type": "stream",
          "name": "stdout",
          "text": [
            "108.3463196156505\n"
          ]
        }
      ]
    },
    {
      "cell_type": "markdown",
      "source": [
        "### Intercept\n",
        "\n",
        "We calculate the intercept using the following formula:\n",
        "\n",
        "${\\displaystyle b_0 = \\bar{y} - b_1 . \\bar{x}}$\n",
        "\n",
        "where\n",
        "* $\\bar{y}$ is the mean of the variable $y$,\n",
        "* $\\bar{x}$ is the mean of the variable $x$.\n"
      ],
      "metadata": {
        "id": "zvEs-6Pd2A5e"
      }
    },
    {
      "cell_type": "code",
      "source": [
        "# calculate the intercept\n",
        "intercept = data['price'].mean() - slope * data['size'].mean()\n",
        "\n",
        "print(intercept)"
      ],
      "metadata": {
        "colab": {
          "base_uri": "https://localhost:8080/"
        },
        "id": "kZw7TTlK22VZ",
        "outputId": "45985816-ecd1-4190-c2ef-76a93cbafcad"
      },
      "execution_count": null,
      "outputs": [
        {
          "output_type": "stream",
          "name": "stdout",
          "text": [
            "60919.44208376299\n"
          ]
        }
      ]
    },
    {
      "cell_type": "markdown",
      "source": [
        "### Visualization\n",
        "\n",
        "The following figure shows a scatter plot of price data versus size data, and a line plot of the linear regression line."
      ],
      "metadata": {
        "id": "bKGQPUpDSsEU"
      }
    },
    {
      "cell_type": "code",
      "source": [
        "# create figure and axes\n",
        "fig, ax = plt.subplots()\n",
        "ax.set_title('Linear Regression')\n",
        "ax.set_xlabel('Size')\n",
        "ax.set_ylabel('Price')\n",
        "\n",
        "# scatter plot\n",
        "ax.scatter(data['size'], data['price'])\n",
        "\n",
        "# plot linear regression line\n",
        "ax.plot(data['size'], intercept + slope * data['size'], color='orange')\n",
        "\n",
        "# show plot\n",
        "plt.show()"
      ],
      "metadata": {
        "colab": {
          "base_uri": "https://localhost:8080/",
          "height": 472
        },
        "id": "-gpywR0MSxr4",
        "outputId": "c19106e0-14bf-445d-dc52-b1c540186130"
      },
      "execution_count": null,
      "outputs": [
        {
          "output_type": "display_data",
          "data": {
            "text/plain": [
              "<Figure size 640x480 with 1 Axes>"
            ],
            "image/png": "[encoded data removed]"
          },
          "metadata": {}
        }
      ]
    },
    {
      "cell_type": "markdown",
      "source": [
        "### Perform Linear Regression Using NumPy\n",
        "\n",
        "We use `numpy.polyfit()` function to calculate the slope ($b_1$) and intercept ($b_0$) of the regression line.\n",
        "\n",
        "`numpy.polyfit()` performs a least-squares polynomial fit to data points.\n",
        "\n",
        "It takes $x$ and $y$ coordinates of data points and a desired polynomial degree as input and returns the coefficients of the fitted polynomial.\n",
        "\n",
        "*Syntax:*\n",
        "\n",
        "`np.polyfit(x, y, deg)`\n",
        "\n",
        "*Parameters:*\n",
        "\n",
        "* `x`: The x-coordinates of the data points.\n",
        "* `y`: The y-coordinates of the data points.\n",
        "* `deg`: The degree of the polynomial to fit. For example, `deg=1` for a linear fit, `deg=2` for a quadratic fit, and so on.\n",
        "\n",
        "*Output:*\n",
        "\n",
        "It returns an array of coefficients `p` for the polynomial, ordered from the highest degree term to the lowest degree term (e.g., for a degree 2 polynomial, `p[0]` is the coefficient of $x^{2}$, `p[1]` is the coefficient of $x$, and `p[2]` is the constant term)."
      ],
      "metadata": {
        "id": "6nXFcWCoZGTn"
      }
    },
    {
      "cell_type": "code",
      "source": [
        "# calculate slope and intercept\n",
        "slope, intercept = np.polyfit(data['size'], data['price'], 1)\n",
        "\n",
        "print('slope: ', slope)\n",
        "print('intercept: ', intercept)"
      ],
      "metadata": {
        "colab": {
          "base_uri": "https://localhost:8080/"
        },
        "id": "nhXJEJ3GZ_AZ",
        "outputId": "c1ae321b-53e7-41a5-b631-4e86ba1ac52a"
      },
      "execution_count": null,
      "outputs": [
        {
          "output_type": "stream",
          "name": "stdout",
          "text": [
            "slope:  108.34631961565056\n",
            "intercept:  60919.44208376292\n"
          ]
        }
      ]
    }
  ]
}