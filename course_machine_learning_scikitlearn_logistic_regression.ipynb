{
  "nbformat": 4,
  "nbformat_minor": 0,
  "metadata": {
    "colab": {
      "provenance": [],
      "authorship_tag": "ABX9TyOvPxrqIV5wDbc1TVXQLg0a"
    },
    "kernelspec": {
      "name": "python3",
      "display_name": "Python 3"
    },
    "language_info": {
      "name": "python"
    }
  },
  "cells": [
    {
      "cell_type": "markdown",
      "source": [
        "# **`sckit-learn`** Logistic Regression\n",
        "\n",
        "`Scikit-learn` provides a robust and easy-to-use implementation of Logistic Regression through the `sklearn.linear_model.LogisticRegression` class.\n",
        "\n",
        "This algorithm is primarily used for classification tasks, especially binary classification, although it can be extended to multi-class classification.\n",
        "\n",
        "## Key aspects of scikit-learn's Logistic Regression\n",
        "\n",
        "* **Classification Algorithm:** Despite its name, Logistic Regression is a classification algorithm that models the probability of a binary outcome (e.g., 0 or 1, true or false).\n",
        "* **Sigmoid Function:** It uses a sigmoid function to transform the linear combination of input features into a probability value between 0 and 1.\n",
        "* **Implementation Steps:**\n",
        "  * **Import:** Import `LogisticRegression` from `sklearn.linear_model`.\n",
        "  * **Instantiate:** Create an instance of the `LogisticRegression` class.\n",
        "  * **Fit:** Train the model using the `fit()` method with your training data (features `X_train` and target `y_train`).\n",
        "  * **Predict:** Make predictions on new data using the `predict()` method with your test features `X_test`.\n",
        "  * **Evaluate:** Assess the model's performance using metrics like `accuracy_score` from `sklearn.metrics`."
      ],
      "metadata": {
        "id": "MlBlyf0-Hgo2"
      }
    },
    {
      "cell_type": "markdown",
      "source": [
        "## Sigmoid function\n",
        "\n",
        "The sigmoid function, also called logistic function, gives an 'S' shaped curve that can take any real-valued number and map it into a value between 0 and 1.\n",
        "\n",
        "If the output of the sigmoid function is more than 0.5, we can classify the outcome as 1 or YES, and if it is less than 0.5, we can classify it as 0 or NO.\n",
        "\n",
        "The sigmoid function $\\sigma(z)$ is expressed mathematically as:\n",
        "\n",
        "$$\\sigma(z) = \\frac {1}{1 - e^{-z}}$$\n",
        "\n",
        "where\n",
        "\n",
        "$z = b_0 + b_1x_1 + \\ldots + b_px_p$\n",
        "\n",
        "Since $\\sigma(z)$ always returns a value between 0 and 1(no matter the input $z$), it effectively converts a linear combination of input features into a probability. This allows logistic regression to classify inputs into one of two classes.\n",
        "\n",
        "The following figure illustrates a sigmoid curve:"
      ],
      "metadata": {
        "id": "v0NDRhP_Nmev"
      }
    },
    {
      "cell_type": "markdown",
      "source": [
        "![sigmoid-curve.png](data:image/png;base64,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)"
      ],
      "metadata": {
        "id": "ZEiiB6AgPE0p"
      }
    },
    {
      "cell_type": "markdown",
      "source": [
        "## Import Libraries"
      ],
      "metadata": {
        "id": "11i_VEjgJpKz"
      }
    },
    {
      "cell_type": "code",
      "source": [
        "# imports\n",
        "from sklearn.linear_model import LogisticRegression\n",
        "from sklearn.model_selection import train_test_split\n",
        "from sklearn.metrics import accuracy_score\n",
        "from sklearn.datasets import load_iris\n",
        "import pandas as pd"
      ],
      "metadata": {
        "id": "sfqaPqHmJxzM"
      },
      "execution_count": null,
      "outputs": []
    },
    {
      "cell_type": "markdown",
      "source": [
        "## Load the Dataset\n",
        "\n",
        "The scikit-learn Iris dataset is a widely used and classic dataset in machine learning, often serving as a \"hello world\" example for supervised classification problems.\n",
        "\n",
        "**Key characteristics of the Iris dataset:**\n",
        "\n",
        "* **Content:** It contains measurements of 150 Iris flowers, with 50 samples from each of three species: Setosa, Versicolor, and Virginica.\n",
        "* **Features:** For each flower, four features are measured: sepal length, sepal width, petal length, and petal width, all in centimeters.\n",
        "* **Target:** The target variable is the species of the Iris flower, represented numerically as 0 for Setosa, 1 for Versicolor, and 2 for Virginica.\n",
        "* **Purpose:** The dataset is commonly used to demonstrate and practice various machine learning algorithms, particularly for classification tasks, due to the clear correlation between the features and the species.\n",
        "* **Availability:** It is a built-in toy dataset within the scikit-learn library, making it easily accessible for users.\n"
      ],
      "metadata": {
        "id": "6zt6qUP_J3xR"
      }
    },
    {
      "cell_type": "code",
      "source": [
        "# Load sample data (Iris dataset for demonstration)\n",
        "iris = load_iris()\n",
        "X, y = iris.data, iris.target"
      ],
      "metadata": {
        "id": "t4L9JK5GJ7ck"
      },
      "execution_count": null,
      "outputs": []
    },
    {
      "cell_type": "markdown",
      "source": [
        "This returns a `Bunch` object, which is a dictionary-like object containing the data, target values, feature names, target names, and a description of the dataset.\n",
        "\n",
        "**Accessing components of the dataset:**\n",
        "\n",
        "* **Features (data):** `iris.data` (a NumPy array of shape (150, 4))\n",
        "* **Target (labels):** `iris.target` (a NumPy array of shape (150,))\n",
        "* **Feature names:** `iris.feature_names` (a list of strings)\n",
        "* **Target names:** `iris.target_names` (a NumPy array of strings)\n",
        "* **Description:** `iris.DESCR` (a string containing a detailed description)"
      ],
      "metadata": {
        "id": "GStHkA6PRgVw"
      }
    },
    {
      "cell_type": "markdown",
      "source": [
        "#### Explore the Dataset Components\n",
        "\n",
        "**Features:**"
      ],
      "metadata": {
        "id": "mYm-_sHwSsS3"
      }
    },
    {
      "cell_type": "code",
      "source": [
        "for index in range(10):\n",
        "  print(iris.data[index])"
      ],
      "metadata": {
        "colab": {
          "base_uri": "https://localhost:8080/"
        },
        "id": "5uGuDREASy-M",
        "outputId": "0910b324-46b1-4ab3-bcf3-4353adbd08df"
      },
      "execution_count": null,
      "outputs": [
        {
          "output_type": "stream",
          "name": "stdout",
          "text": [
            "[5.1 3.5 1.4 0.2]\n",
            "[4.9 3.  1.4 0.2]\n",
            "[4.7 3.2 1.3 0.2]\n",
            "[4.6 3.1 1.5 0.2]\n",
            "[5.  3.6 1.4 0.2]\n",
            "[5.4 3.9 1.7 0.4]\n",
            "[4.6 3.4 1.4 0.3]\n",
            "[5.  3.4 1.5 0.2]\n",
            "[4.4 2.9 1.4 0.2]\n",
            "[4.9 3.1 1.5 0.1]\n"
          ]
        }
      ]
    },
    {
      "cell_type": "markdown",
      "source": [
        "**Labels**"
      ],
      "metadata": {
        "id": "ussP9ZZ9UNO4"
      }
    },
    {
      "cell_type": "code",
      "source": [
        "print(iris.target)"
      ],
      "metadata": {
        "colab": {
          "base_uri": "https://localhost:8080/"
        },
        "id": "seROTPi-UPLn",
        "outputId": "21060ab1-5013-41da-de78-f2f8b476f494"
      },
      "execution_count": null,
      "outputs": [
        {
          "output_type": "stream",
          "name": "stdout",
          "text": [
            "[0 0 0 0 0 0 0 0 0 0 0 0 0 0 0 0 0 0 0 0 0 0 0 0 0 0 0 0 0 0 0 0 0 0 0 0 0\n",
            " 0 0 0 0 0 0 0 0 0 0 0 0 0 1 1 1 1 1 1 1 1 1 1 1 1 1 1 1 1 1 1 1 1 1 1 1 1\n",
            " 1 1 1 1 1 1 1 1 1 1 1 1 1 1 1 1 1 1 1 1 1 1 1 1 1 1 2 2 2 2 2 2 2 2 2 2 2\n",
            " 2 2 2 2 2 2 2 2 2 2 2 2 2 2 2 2 2 2 2 2 2 2 2 2 2 2 2 2 2 2 2 2 2 2 2 2 2\n",
            " 2 2]\n"
          ]
        }
      ]
    },
    {
      "cell_type": "markdown",
      "source": [
        "**Feature names:**"
      ],
      "metadata": {
        "id": "IWKVOZ0gUuxZ"
      }
    },
    {
      "cell_type": "code",
      "source": [
        "print(iris.feature_names)"
      ],
      "metadata": {
        "colab": {
          "base_uri": "https://localhost:8080/"
        },
        "id": "Yzc2VfJZUzow",
        "outputId": "28967c74-fd8d-40f9-c463-a0b4d2596652"
      },
      "execution_count": null,
      "outputs": [
        {
          "output_type": "stream",
          "name": "stdout",
          "text": [
            "['sepal length (cm)', 'sepal width (cm)', 'petal length (cm)', 'petal width (cm)']\n"
          ]
        }
      ]
    },
    {
      "cell_type": "markdown",
      "source": [
        "**Target names:**"
      ],
      "metadata": {
        "id": "oksMutk_VBUt"
      }
    },
    {
      "cell_type": "code",
      "source": [
        "print(iris.target_names)"
      ],
      "metadata": {
        "colab": {
          "base_uri": "https://localhost:8080/"
        },
        "id": "gTtJIwrFVDkw",
        "outputId": "a8b00315-2b90-414e-a0e9-2534ad69f578"
      },
      "execution_count": null,
      "outputs": [
        {
          "output_type": "stream",
          "name": "stdout",
          "text": [
            "['setosa' 'versicolor' 'virginica']\n"
          ]
        }
      ]
    },
    {
      "cell_type": "markdown",
      "source": [
        "**Description:**"
      ],
      "metadata": {
        "id": "8rpl8dFrVMnw"
      }
    },
    {
      "cell_type": "code",
      "source": [
        "print(iris.DESCR)"
      ],
      "metadata": {
        "colab": {
          "base_uri": "https://localhost:8080/"
        },
        "id": "xNimdu-8VOTE",
        "outputId": "67a0e9a6-caf0-47c2-dbf0-950dc0501789"
      },
      "execution_count": null,
      "outputs": [
        {
          "output_type": "stream",
          "name": "stdout",
          "text": [
            ".. _iris_dataset:\n",
            "\n",
            "Iris plants dataset\n",
            "--------------------\n",
            "\n",
            "**Data Set Characteristics:**\n",
            "\n",
            ":Number of Instances: 150 (50 in each of three classes)\n",
            ":Number of Attributes: 4 numeric, predictive attributes and the class\n",
            ":Attribute Information:\n",
            "    - sepal length in cm\n",
            "    - sepal width in cm\n",
            "    - petal length in cm\n",
            "    - petal width in cm\n",
            "    - class:\n",
            "            - Iris-Setosa\n",
            "            - Iris-Versicolour\n",
            "            - Iris-Virginica\n",
            "\n",
            ":Summary Statistics:\n",
            "\n",
            "============== ==== ==== ======= ===== ====================\n",
            "                Min  Max   Mean    SD   Class Correlation\n",
            "============== ==== ==== ======= ===== ====================\n",
            "sepal length:   4.3  7.9   5.84   0.83    0.7826\n",
            "sepal width:    2.0  4.4   3.05   0.43   -0.4194\n",
            "petal length:   1.0  6.9   3.76   1.76    0.9490  (high!)\n",
            "petal width:    0.1  2.5   1.20   0.76    0.9565  (high!)\n",
            "============== ==== ==== ======= ===== ====================\n",
            "\n",
            ":Missing Attribute Values: None\n",
            ":Class Distribution: 33.3% for each of 3 classes.\n",
            ":Creator: R.A. Fisher\n",
            ":Donor: Michael Marshall (MARSHALL%PLU@io.arc.nasa.gov)\n",
            ":Date: July, 1988\n",
            "\n",
            "The famous Iris database, first used by Sir R.A. Fisher. The dataset is taken\n",
            "from Fisher's paper. Note that it's the same as in R, but not as in the UCI\n",
            "Machine Learning Repository, which has two wrong data points.\n",
            "\n",
            "This is perhaps the best known database to be found in the\n",
            "pattern recognition literature.  Fisher's paper is a classic in the field and\n",
            "is referenced frequently to this day.  (See Duda & Hart, for example.)  The\n",
            "data set contains 3 classes of 50 instances each, where each class refers to a\n",
            "type of iris plant.  One class is linearly separable from the other 2; the\n",
            "latter are NOT linearly separable from each other.\n",
            "\n",
            ".. dropdown:: References\n",
            "\n",
            "  - Fisher, R.A. \"The use of multiple measurements in taxonomic problems\"\n",
            "    Annual Eugenics, 7, Part II, 179-188 (1936); also in \"Contributions to\n",
            "    Mathematical Statistics\" (John Wiley, NY, 1950).\n",
            "  - Duda, R.O., & Hart, P.E. (1973) Pattern Classification and Scene Analysis.\n",
            "    (Q327.D83) John Wiley & Sons.  ISBN 0-471-22361-1.  See page 218.\n",
            "  - Dasarathy, B.V. (1980) \"Nosing Around the Neighborhood: A New System\n",
            "    Structure and Classification Rule for Recognition in Partially Exposed\n",
            "    Environments\".  IEEE Transactions on Pattern Analysis and Machine\n",
            "    Intelligence, Vol. PAMI-2, No. 1, 67-71.\n",
            "  - Gates, G.W. (1972) \"The Reduced Nearest Neighbor Rule\".  IEEE Transactions\n",
            "    on Information Theory, May 1972, 431-433.\n",
            "  - See also: 1988 MLC Proceedings, 54-64.  Cheeseman et al\"s AUTOCLASS II\n",
            "    conceptual clustering system finds 3 classes in the data.\n",
            "  - Many, many more ...\n",
            "\n"
          ]
        }
      ]
    },
    {
      "cell_type": "markdown",
      "source": [
        "## Split the Data"
      ],
      "metadata": {
        "id": "UK1lXLyhJ-b8"
      }
    },
    {
      "cell_type": "code",
      "source": [
        "# Split data into training and testing sets\n",
        "X_train, X_test, y_train, y_test = train_test_split(X, y, test_size=0.2, random_state=42)"
      ],
      "metadata": {
        "id": "sDcOO3RGKcK4"
      },
      "execution_count": null,
      "outputs": []
    },
    {
      "cell_type": "markdown",
      "source": [
        "## Create and Train the model"
      ],
      "metadata": {
        "id": "zbw8PhHzKikx"
      }
    },
    {
      "cell_type": "code",
      "source": [
        "# Create a Logistic Regression model instance\n",
        "model = LogisticRegression(max_iter=200) # Increased max_iter for convergence\n",
        "\n",
        "# Fit the model to the training data\n",
        "model.fit(X_train, y_train)"
      ],
      "metadata": {
        "id": "3bBxO8jkKnAz"
      },
      "execution_count": null,
      "outputs": []
    },
    {
      "cell_type": "markdown",
      "source": [
        "## Make Predictions"
      ],
      "metadata": {
        "id": "QxVmNhRmLFz6"
      }
    },
    {
      "cell_type": "code",
      "source": [
        "# Make predictions on the test data\n",
        "y_pred = model.predict(X_test)\n",
        "\n",
        "# create a dataframe containing the predictions alongside the actual values\n",
        "predictions = pd.DataFrame({'Actual': y_test, 'Predicted': y_pred})\n",
        "\n",
        "print(predictions.head())"
      ],
      "metadata": {
        "colab": {
          "base_uri": "https://localhost:8080/"
        },
        "id": "P25feGLxLINg",
        "outputId": "0a65109b-f783-4ad5-a75e-092494be88a9"
      },
      "execution_count": null,
      "outputs": [
        {
          "output_type": "stream",
          "name": "stdout",
          "text": [
            "   Actual  Predicted\n",
            "0       1          1\n",
            "1       0          0\n",
            "2       2          2\n",
            "3       1          1\n",
            "4       1          1\n"
          ]
        }
      ]
    },
    {
      "cell_type": "markdown",
      "source": [
        "## Evaluate the Model"
      ],
      "metadata": {
        "id": "vzTgON5uLLRi"
      }
    },
    {
      "cell_type": "code",
      "source": [
        "# Evaluate the model's accuracy\n",
        "accuracy = accuracy_score(y_test, y_pred)\n",
        "print(f\"Model Accuracy: {accuracy:.2f}\")"
      ],
      "metadata": {
        "colab": {
          "base_uri": "https://localhost:8080/"
        },
        "id": "H3NSRFfFLQV4",
        "outputId": "d7894d42-6674-4a22-e56d-2590ffe62931"
      },
      "execution_count": null,
      "outputs": [
        {
          "output_type": "stream",
          "name": "stdout",
          "text": [
            "Model Accuracy: 1.00\n"
          ]
        }
      ]
    }
  ]
}