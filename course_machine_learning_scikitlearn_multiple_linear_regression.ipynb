{
  "nbformat": 4,
  "nbformat_minor": 0,
  "metadata": {
    "colab": {
      "provenance": [],
      "authorship_tag": "ABX9TyPL/1XaFwp7vNBOJi9JYGBp"
    },
    "kernelspec": {
      "name": "python3",
      "display_name": "Python 3"
    },
    "language_info": {
      "name": "python"
    }
  },
  "cells": [
    {
      "cell_type": "markdown",
      "source": [
        "# **`scikit-learn`** Multiple Linear Regression"
      ],
      "metadata": {
        "id": "1vNqThyzT-LF"
      }
    },
    {
      "cell_type": "markdown",
      "source": [
        "## Multiple Linear Regression\n",
        "\n",
        "Multiple linear regression is a statistical and machine learning method that models the relationship between one dependent (response) variable and two or more independent (predictor) variables by fitting a linear equation to the data.\n",
        "\n",
        "The linear equation is used to predict values of the response variable from the values of the predictor variables and understand the linear connection between.\n",
        "\n",
        "It works by finding the \"best-fit\" linear equation that minimizes the distance (residuals) between the actual data points and the predicted points on the linear equation, allowing for the prediction of a continuous outcome based on known predictor variables.\n",
        "\n",
        "Multiple linear regression models the relationship between two or more independent (predictor) variables and one dependent (response) variable using a linear equation to predict values and understand the linear connection between them.\n",
        "\n",
        "It identifies the linear equation of best fit by minimizing the sum of the squared differences (residuals) between the observed and predicted values, a method known as Ordinary Least Squares (OLS).\n",
        "\n",
        "The goal is to find the linear equation, which includes its coefficients, to best represent the data points and make informed predictions.\n",
        "\n",
        "The equation for multiple linear regression is typically written as:\n",
        "\n",
        "$y = b_0 + b_1 x_1 + b_2 x_2 + \\ldots + b_p x_p$\n",
        "\n",
        "where\n",
        "* $y$ is the estimated or predicted value of the dependent variable (response variable).\n",
        "* $b_0$ is the intercept, which is the predicted value of the dependent variable when all independent variables are zero.\n",
        "* $(b_1,b_2,\\ldots,b_p)$ are the slope coefficients, which represent the change in the dependent variable for a one-unit increase in the corresponding independent variable.\n",
        "* $(x_1,x_2,\\ldots,x_p)$ are the independent variables, or the predictor variables.\n",
        "\n",
        "## Assumptions of Multiple Regression Model\n",
        "\n",
        "The key assumptions for a multiple regression model are:\n",
        "\n",
        "* Linearity: The relationship between the dependent variable and each of the independent variables is roughly linear.\n",
        "* Homoscedasticity: The variance of the error terms (residuals) is constant across all levels of the independent variables. In simpler terms, the spread of errors is consistent.\n",
        "* Independence of Errors: The residuals (the differences between actual and predicted values) are independent of each other. This means the error for one observation doesn't predict the error for another.\n",
        "* Normality of Residuals: The residuals are approximately normally distributed, meaning they should resemble a bell curve when plotted.\n",
        "* No Multicollinearity: The independent variables are not highly correlated with each other. High correlations can make it difficult to determine the unique contribution of each independent variable.\n",
        "* Outliers: There are no outliers or influential cases that disproportionately affect the regression model."
      ],
      "metadata": {
        "id": "hQ0BwlXITueT"
      }
    },
    {
      "cell_type": "markdown",
      "source": [
        "## **`scikit-learn`** Library\n",
        "\n",
        "**`scikit-learn`**, often referred to as `sklearn`, is a Python library for machine learning. It provides a wide range of tools for various machine learning tasks.\n",
        "\n",
        "We will use `scikit-learn` to perform a multiple linear regression.\n",
        "\n",
        "The process includes the following steps:\n",
        "\n",
        "1. Load the dataset.\n",
        "2. Select the predictor variables and the response variable\n",
        "3. Split the data into a training set and a testing set.\n",
        "4. Train the multiple linear regression model.\n",
        "5. Make predictions.\n",
        "6. Visualize the linear regression.\n",
        "7. Evaluate the model."
      ],
      "metadata": {
        "id": "pcAFouEDD53b"
      }
    },
    {
      "cell_type": "markdown",
      "source": [
        "## Import Libraries"
      ],
      "metadata": {
        "id": "OUlSeo7VFjLs"
      }
    },
    {
      "cell_type": "code",
      "source": [
        "# imports\n",
        "from sklearn.linear_model import LinearRegression\n",
        "from sklearn.model_selection import train_test_split\n",
        "from sklearn.metrics import mean_squared_error, r2_score\n",
        "import numpy as np\n",
        "import pandas as pd\n",
        "import matplotlib.pyplot as plt"
      ],
      "metadata": {
        "id": "HnfORBNgFoWr"
      },
      "execution_count": 2,
      "outputs": []
    },
    {
      "cell_type": "markdown",
      "source": [
        "## Load the Dataset\n",
        "\n",
        "We will use the Boston Housing Dataset. This dataset provides details on Boston real estate costs such as room counts and prices.\n",
        "\n",
        "It includes the following columns:\n",
        "* rooms: average number of rooms per dwelling,\n",
        "* distance: weighted distances to five Boston employment centers,\n",
        "* value: median value of homes in $1000.\n",
        "\n",
        "Based on the number of rooms, we will forecast the value of the house."
      ],
      "metadata": {
        "id": "CvzgBPyrF5Eo"
      }
    },
    {
      "cell_type": "code",
      "source": [
        "# csv file location\n",
        "url = 'https://github.com/tariqzahratahdi/MachineLearning/raw/refs/heads/main/datasets/boston_house_prices.csv'\n",
        "\n",
        "# making data frame from csv file\n",
        "data = pd.read_csv(url)\n",
        "\n",
        "# show dataframe\n",
        "data"
      ],
      "metadata": {
        "colab": {
          "base_uri": "https://localhost:8080/",
          "height": 423
        },
        "id": "uyjadkdJF7zz",
        "outputId": "6bc72ace-7484-4d30-e550-afc7078a67fc"
      },
      "execution_count": 3,
      "outputs": [
        {
          "output_type": "execute_result",
          "data": {
            "text/plain": [
              "     rooms  distance  value\n",
              "0    6.575    4.0900   24.0\n",
              "1    6.421    4.9671   21.6\n",
              "2    7.185    4.9671   34.7\n",
              "3    6.998    6.0622   33.4\n",
              "4    7.147    6.0622   36.2\n",
              "..     ...       ...    ...\n",
              "501  6.593    2.4786   22.4\n",
              "502  6.120    2.2875   20.6\n",
              "503  6.976    2.1675   23.9\n",
              "504  6.794    2.3889   22.0\n",
              "505  6.030    2.5050   11.9\n",
              "\n",
              "[506 rows x 3 columns]"
            ],
            "text/html": [
              "\n",
              "  <div id=\"df-274fd1e3-eef2-4990-9095-39e61a382966\" class=\"colab-df-container\">\n",
              "    <div>\n",
              "<style scoped>\n",
              "    .dataframe tbody tr th:only-of-type {\n",
              "        vertical-align: middle;\n",
              "    }\n",
              "\n",
              "    .dataframe tbody tr th {\n",
              "        vertical-align: top;\n",
              "    }\n",
              "\n",
              "    .dataframe thead th {\n",
              "        text-align: right;\n",
              "    }\n",
              "</style>\n",
              "<table border=\"1\" class=\"dataframe\">\n",
              "  <thead>\n",
              "    <tr style=\"text-align: right;\">\n",
              "      <th></th>\n",
              "      <th>rooms</th>\n",
              "      <th>distance</th>\n",
              "      <th>value</th>\n",
              "    </tr>\n",
              "  </thead>\n",
              "  <tbody>\n",
              "    <tr>\n",
              "      <th>0</th>\n",
              "      <td>6.575</td>\n",
              "      <td>4.0900</td>\n",
              "      <td>24.0</td>\n",
              "    </tr>\n",
              "    <tr>\n",
              "      <th>1</th>\n",
              "      <td>6.421</td>\n",
              "      <td>4.9671</td>\n",
              "      <td>21.6</td>\n",
              "    </tr>\n",
              "    <tr>\n",
              "      <th>2</th>\n",
              "      <td>7.185</td>\n",
              "      <td>4.9671</td>\n",
              "      <td>34.7</td>\n",
              "    </tr>\n",
              "    <tr>\n",
              "      <th>3</th>\n",
              "      <td>6.998</td>\n",
              "      <td>6.0622</td>\n",
              "      <td>33.4</td>\n",
              "    </tr>\n",
              "    <tr>\n",
              "      <th>4</th>\n",
              "      <td>7.147</td>\n",
              "      <td>6.0622</td>\n",
              "      <td>36.2</td>\n",
              "    </tr>\n",
              "    <tr>\n",
              "      <th>...</th>\n",
              "      <td>...</td>\n",
              "      <td>...</td>\n",
              "      <td>...</td>\n",
              "    </tr>\n",
              "    <tr>\n",
              "      <th>501</th>\n",
              "      <td>6.593</td>\n",
              "      <td>2.4786</td>\n",
              "      <td>22.4</td>\n",
              "    </tr>\n",
              "    <tr>\n",
              "      <th>502</th>\n",
              "      <td>6.120</td>\n",
              "      <td>2.2875</td>\n",
              "      <td>20.6</td>\n",
              "    </tr>\n",
              "    <tr>\n",
              "      <th>503</th>\n",
              "      <td>6.976</td>\n",
              "      <td>2.1675</td>\n",
              "      <td>23.9</td>\n",
              "    </tr>\n",
              "    <tr>\n",
              "      <th>504</th>\n",
              "      <td>6.794</td>\n",
              "      <td>2.3889</td>\n",
              "      <td>22.0</td>\n",
              "    </tr>\n",
              "    <tr>\n",
              "      <th>505</th>\n",
              "      <td>6.030</td>\n",
              "      <td>2.5050</td>\n",
              "      <td>11.9</td>\n",
              "    </tr>\n",
              "  </tbody>\n",
              "</table>\n",
              "<p>506 rows × 3 columns</p>\n",
              "</div>\n",
              "    <div class=\"colab-df-buttons\">\n",
              "\n",
              "  <div class=\"colab-df-container\">\n",
              "    <button class=\"colab-df-convert\" onclick=\"convertToInteractive('df-274fd1e3-eef2-4990-9095-39e61a382966')\"\n",
              "            title=\"Convert this dataframe to an interactive table.\"\n",
              "            style=\"display:none;\">\n",
              "\n",
              "  <svg xmlns=\"http://www.w3.org/2000/svg\" height=\"24px\" viewBox=\"0 -960 960 960\">\n",
              "    <path d=\"M120-120v-720h720v720H120Zm60-500h600v-160H180v160Zm220 220h160v-160H400v160Zm0 220h160v-160H400v160ZM180-400h160v-160H180v160Zm440 0h160v-160H620v160ZM180-180h160v-160H180v160Zm440 0h160v-160H620v160Z\"/>\n",
              "  </svg>\n",
              "    </button>\n",
              "\n",
              "  <style>\n",
              "    .colab-df-container {\n",
              "      display:flex;\n",
              "      gap: 12px;\n",
              "    }\n",
              "\n",
              "    .colab-df-convert {\n",
              "      background-color: #E8F0FE;\n",
              "      border: none;\n",
              "      border-radius: 50%;\n",
              "      cursor: pointer;\n",
              "      display: none;\n",
              "      fill: #1967D2;\n",
              "      height: 32px;\n",
              "      padding: 0 0 0 0;\n",
              "      width: 32px;\n",
              "    }\n",
              "\n",
              "    .colab-df-convert:hover {\n",
              "      background-color: #E2EBFA;\n",
              "      box-shadow: 0px 1px 2px rgba(60, 64, 67, 0.3), 0px 1px 3px 1px rgba(60, 64, 67, 0.15);\n",
              "      fill: #174EA6;\n",
              "    }\n",
              "\n",
              "    .colab-df-buttons div {\n",
              "      margin-bottom: 4px;\n",
              "    }\n",
              "\n",
              "    [theme=dark] .colab-df-convert {\n",
              "      background-color: #3B4455;\n",
              "      fill: #D2E3FC;\n",
              "    }\n",
              "\n",
              "    [theme=dark] .colab-df-convert:hover {\n",
              "      background-color: #434B5C;\n",
              "      box-shadow: 0px 1px 3px 1px rgba(0, 0, 0, 0.15);\n",
              "      filter: drop-shadow(0px 1px 2px rgba(0, 0, 0, 0.3));\n",
              "      fill: #FFFFFF;\n",
              "    }\n",
              "  </style>\n",
              "\n",
              "    <script>\n",
              "      const buttonEl =\n",
              "        document.querySelector('#df-274fd1e3-eef2-4990-9095-39e61a382966 button.colab-df-convert');\n",
              "      buttonEl.style.display =\n",
              "        google.colab.kernel.accessAllowed ? 'block' : 'none';\n",
              "\n",
              "      async function convertToInteractive(key) {\n",
              "        const element = document.querySelector('#df-274fd1e3-eef2-4990-9095-39e61a382966');\n",
              "        const dataTable =\n",
              "          await google.colab.kernel.invokeFunction('convertToInteractive',\n",
              "                                                    [key], {});\n",
              "        if (!dataTable) return;\n",
              "\n",
              "        const docLinkHtml = 'Like what you see? Visit the ' +\n",
              "          '<a target=\"_blank\" href=https://colab.research.google.com/notebooks/data_table.ipynb>data table notebook</a>'\n",
              "          + ' to learn more about interactive tables.';\n",
              "        element.innerHTML = '';\n",
              "        dataTable['output_type'] = 'display_data';\n",
              "        await google.colab.output.renderOutput(dataTable, element);\n",
              "        const docLink = document.createElement('div');\n",
              "        docLink.innerHTML = docLinkHtml;\n",
              "        element.appendChild(docLink);\n",
              "      }\n",
              "    </script>\n",
              "  </div>\n",
              "\n",
              "\n",
              "    <div id=\"df-bdd7d4dc-1576-42b5-9248-7348863a7e86\">\n",
              "      <button class=\"colab-df-quickchart\" onclick=\"quickchart('df-bdd7d4dc-1576-42b5-9248-7348863a7e86')\"\n",
              "                title=\"Suggest charts\"\n",
              "                style=\"display:none;\">\n",
              "\n",
              "<svg xmlns=\"http://www.w3.org/2000/svg\" height=\"24px\"viewBox=\"0 0 24 24\"\n",
              "     width=\"24px\">\n",
              "    <g>\n",
              "        <path d=\"M19 3H5c-1.1 0-2 .9-2 2v14c0 1.1.9 2 2 2h14c1.1 0 2-.9 2-2V5c0-1.1-.9-2-2-2zM9 17H7v-7h2v7zm4 0h-2V7h2v10zm4 0h-2v-4h2v4z\"/>\n",
              "    </g>\n",
              "</svg>\n",
              "      </button>\n",
              "\n",
              "<style>\n",
              "  .colab-df-quickchart {\n",
              "      --bg-color: #E8F0FE;\n",
              "      --fill-color: #1967D2;\n",
              "      --hover-bg-color: #E2EBFA;\n",
              "      --hover-fill-color: #174EA6;\n",
              "      --disabled-fill-color: #AAA;\n",
              "      --disabled-bg-color: #DDD;\n",
              "  }\n",
              "\n",
              "  [theme=dark] .colab-df-quickchart {\n",
              "      --bg-color: #3B4455;\n",
              "      --fill-color: #D2E3FC;\n",
              "      --hover-bg-color: #434B5C;\n",
              "      --hover-fill-color: #FFFFFF;\n",
              "      --disabled-bg-color: #3B4455;\n",
              "      --disabled-fill-color: #666;\n",
              "  }\n",
              "\n",
              "  .colab-df-quickchart {\n",
              "    background-color: var(--bg-color);\n",
              "    border: none;\n",
              "    border-radius: 50%;\n",
              "    cursor: pointer;\n",
              "    display: none;\n",
              "    fill: var(--fill-color);\n",
              "    height: 32px;\n",
              "    padding: 0;\n",
              "    width: 32px;\n",
              "  }\n",
              "\n",
              "  .colab-df-quickchart:hover {\n",
              "    background-color: var(--hover-bg-color);\n",
              "    box-shadow: 0 1px 2px rgba(60, 64, 67, 0.3), 0 1px 3px 1px rgba(60, 64, 67, 0.15);\n",
              "    fill: var(--button-hover-fill-color);\n",
              "  }\n",
              "\n",
              "  .colab-df-quickchart-complete:disabled,\n",
              "  .colab-df-quickchart-complete:disabled:hover {\n",
              "    background-color: var(--disabled-bg-color);\n",
              "    fill: var(--disabled-fill-color);\n",
              "    box-shadow: none;\n",
              "  }\n",
              "\n",
              "  .colab-df-spinner {\n",
              "    border: 2px solid var(--fill-color);\n",
              "    border-color: transparent;\n",
              "    border-bottom-color: var(--fill-color);\n",
              "    animation:\n",
              "      spin 1s steps(1) infinite;\n",
              "  }\n",
              "\n",
              "  @keyframes spin {\n",
              "    0% {\n",
              "      border-color: transparent;\n",
              "      border-bottom-color: var(--fill-color);\n",
              "      border-left-color: var(--fill-color);\n",
              "    }\n",
              "    20% {\n",
              "      border-color: transparent;\n",
              "      border-left-color: var(--fill-color);\n",
              "      border-top-color: var(--fill-color);\n",
              "    }\n",
              "    30% {\n",
              "      border-color: transparent;\n",
              "      border-left-color: var(--fill-color);\n",
              "      border-top-color: var(--fill-color);\n",
              "      border-right-color: var(--fill-color);\n",
              "    }\n",
              "    40% {\n",
              "      border-color: transparent;\n",
              "      border-right-color: var(--fill-color);\n",
              "      border-top-color: var(--fill-color);\n",
              "    }\n",
              "    60% {\n",
              "      border-color: transparent;\n",
              "      border-right-color: var(--fill-color);\n",
              "    }\n",
              "    80% {\n",
              "      border-color: transparent;\n",
              "      border-right-color: var(--fill-color);\n",
              "      border-bottom-color: var(--fill-color);\n",
              "    }\n",
              "    90% {\n",
              "      border-color: transparent;\n",
              "      border-bottom-color: var(--fill-color);\n",
              "    }\n",
              "  }\n",
              "</style>\n",
              "\n",
              "      <script>\n",
              "        async function quickchart(key) {\n",
              "          const quickchartButtonEl =\n",
              "            document.querySelector('#' + key + ' button');\n",
              "          quickchartButtonEl.disabled = true;  // To prevent multiple clicks.\n",
              "          quickchartButtonEl.classList.add('colab-df-spinner');\n",
              "          try {\n",
              "            const charts = await google.colab.kernel.invokeFunction(\n",
              "                'suggestCharts', [key], {});\n",
              "          } catch (error) {\n",
              "            console.error('Error during call to suggestCharts:', error);\n",
              "          }\n",
              "          quickchartButtonEl.classList.remove('colab-df-spinner');\n",
              "          quickchartButtonEl.classList.add('colab-df-quickchart-complete');\n",
              "        }\n",
              "        (() => {\n",
              "          let quickchartButtonEl =\n",
              "            document.querySelector('#df-bdd7d4dc-1576-42b5-9248-7348863a7e86 button');\n",
              "          quickchartButtonEl.style.display =\n",
              "            google.colab.kernel.accessAllowed ? 'block' : 'none';\n",
              "        })();\n",
              "      </script>\n",
              "    </div>\n",
              "\n",
              "  <div id=\"id_6dcf0248-714f-4996-add1-fa0ba126d83f\">\n",
              "    <style>\n",
              "      .colab-df-generate {\n",
              "        background-color: #E8F0FE;\n",
              "        border: none;\n",
              "        border-radius: 50%;\n",
              "        cursor: pointer;\n",
              "        display: none;\n",
              "        fill: #1967D2;\n",
              "        height: 32px;\n",
              "        padding: 0 0 0 0;\n",
              "        width: 32px;\n",
              "      }\n",
              "\n",
              "      .colab-df-generate:hover {\n",
              "        background-color: #E2EBFA;\n",
              "        box-shadow: 0px 1px 2px rgba(60, 64, 67, 0.3), 0px 1px 3px 1px rgba(60, 64, 67, 0.15);\n",
              "        fill: #174EA6;\n",
              "      }\n",
              "\n",
              "      [theme=dark] .colab-df-generate {\n",
              "        background-color: #3B4455;\n",
              "        fill: #D2E3FC;\n",
              "      }\n",
              "\n",
              "      [theme=dark] .colab-df-generate:hover {\n",
              "        background-color: #434B5C;\n",
              "        box-shadow: 0px 1px 3px 1px rgba(0, 0, 0, 0.15);\n",
              "        filter: drop-shadow(0px 1px 2px rgba(0, 0, 0, 0.3));\n",
              "        fill: #FFFFFF;\n",
              "      }\n",
              "    </style>\n",
              "    <button class=\"colab-df-generate\" onclick=\"generateWithVariable('data')\"\n",
              "            title=\"Generate code using this dataframe.\"\n",
              "            style=\"display:none;\">\n",
              "\n",
              "  <svg xmlns=\"http://www.w3.org/2000/svg\" height=\"24px\"viewBox=\"0 0 24 24\"\n",
              "       width=\"24px\">\n",
              "    <path d=\"M7,19H8.4L18.45,9,17,7.55,7,17.6ZM5,21V16.75L18.45,3.32a2,2,0,0,1,2.83,0l1.4,1.43a1.91,1.91,0,0,1,.58,1.4,1.91,1.91,0,0,1-.58,1.4L9.25,21ZM18.45,9,17,7.55Zm-12,3A5.31,5.31,0,0,0,4.9,8.1,5.31,5.31,0,0,0,1,6.5,5.31,5.31,0,0,0,4.9,4.9,5.31,5.31,0,0,0,6.5,1,5.31,5.31,0,0,0,8.1,4.9,5.31,5.31,0,0,0,12,6.5,5.46,5.46,0,0,0,6.5,12Z\"/>\n",
              "  </svg>\n",
              "    </button>\n",
              "    <script>\n",
              "      (() => {\n",
              "      const buttonEl =\n",
              "        document.querySelector('#id_6dcf0248-714f-4996-add1-fa0ba126d83f button.colab-df-generate');\n",
              "      buttonEl.style.display =\n",
              "        google.colab.kernel.accessAllowed ? 'block' : 'none';\n",
              "\n",
              "      buttonEl.onclick = () => {\n",
              "        google.colab.notebook.generateWithVariable('data');\n",
              "      }\n",
              "      })();\n",
              "    </script>\n",
              "  </div>\n",
              "\n",
              "    </div>\n",
              "  </div>\n"
            ],
            "application/vnd.google.colaboratory.intrinsic+json": {
              "type": "dataframe",
              "variable_name": "data",
              "summary": "{\n  \"name\": \"data\",\n  \"rows\": 506,\n  \"fields\": [\n    {\n      \"column\": \"rooms\",\n      \"properties\": {\n        \"dtype\": \"number\",\n        \"std\": 0.7026171434153237,\n        \"min\": 3.561,\n        \"max\": 8.78,\n        \"num_unique_values\": 446,\n        \"samples\": [\n          6.849,\n          4.88,\n          5.693\n        ],\n        \"semantic_type\": \"\",\n        \"description\": \"\"\n      }\n    },\n    {\n      \"column\": \"distance\",\n      \"properties\": {\n        \"dtype\": \"number\",\n        \"std\": 2.1057101266276104,\n        \"min\": 1.1296,\n        \"max\": 12.1265,\n        \"num_unique_values\": 412,\n        \"samples\": [\n          2.2955,\n          4.2515,\n          3.2628\n        ],\n        \"semantic_type\": \"\",\n        \"description\": \"\"\n      }\n    },\n    {\n      \"column\": \"value\",\n      \"properties\": {\n        \"dtype\": \"number\",\n        \"std\": 9.19710408737982,\n        \"min\": 5.0,\n        \"max\": 50.0,\n        \"num_unique_values\": 229,\n        \"samples\": [\n          14.1,\n          22.5,\n          18.9\n        ],\n        \"semantic_type\": \"\",\n        \"description\": \"\"\n      }\n    }\n  ]\n}"
            }
          },
          "metadata": {},
          "execution_count": 3
        }
      ]
    },
    {
      "cell_type": "markdown",
      "source": [
        "## Define Predictor Variables and Response Variable\n",
        "\n",
        "We will use the number of rooms (`rooms`) and the distance (`distance`) as the predictor variables and the house value (`value`) as the response variable."
      ],
      "metadata": {
        "id": "npCWsKBOtJOo"
      }
    },
    {
      "cell_type": "code",
      "source": [
        "# define the predictor variable and the response variable\n",
        "X = data[['rooms', 'distance']]\n",
        "y = data['value']"
      ],
      "metadata": {
        "id": "R8GXH9Z8tqha"
      },
      "execution_count": 4,
      "outputs": []
    },
    {
      "cell_type": "markdown",
      "source": [
        "## Split the Data\n",
        "\n",
        "We will split the data into training sets and testing sets."
      ],
      "metadata": {
        "id": "TNgdkxvuuTFt"
      }
    },
    {
      "cell_type": "code",
      "source": [
        "# split the data into training and testing sets (80% train, 20% test)\n",
        "X_train, X_test, y_train, y_test = train_test_split(X, y, test_size=0.2, random_state=42)\n",
        "\n",
        "print(f\"Training set size: {X_train.shape[0]}\")\n",
        "print(f\"Testing set size: {X_test.shape[0]}\")"
      ],
      "metadata": {
        "colab": {
          "base_uri": "https://localhost:8080/"
        },
        "id": "-YnCY3SwuhCO",
        "outputId": "e764e3f1-7199-4127-e123-8eeba64ca09d"
      },
      "execution_count": 5,
      "outputs": [
        {
          "output_type": "stream",
          "name": "stdout",
          "text": [
            "Training set size: 404\n",
            "Testing set size: 102\n"
          ]
        }
      ]
    },
    {
      "cell_type": "markdown",
      "source": [
        "## Create and Train the Model\n",
        "\n",
        "We will create a linear regression model using `scikit-learn` and train it on the training data.\n",
        "\n",
        "The model will calculate the intercept ($b_0$) and the coefficients ($b_1$ and $b_2$) of the linear equation."
      ],
      "metadata": {
        "id": "E1-tyJf4vBz_"
      }
    },
    {
      "cell_type": "code",
      "source": [
        "# create a linear regression model\n",
        "model = LinearRegression()\n",
        "\n",
        "# train the model on the training data\n",
        "model.fit(X_train, y_train)\n",
        "\n",
        "# print the intercept and coefficient\n",
        "print(f\"Intercept: {model.intercept_}\")\n",
        "print(f\"Coefficient: {model.coef_}\")"
      ],
      "metadata": {
        "colab": {
          "base_uri": "https://localhost:8080/"
        },
        "id": "XBDft2e1vaRn",
        "outputId": "693793c7-160e-454b-92b9-3b7d8b8c8aaf"
      },
      "execution_count": 6,
      "outputs": [
        {
          "output_type": "stream",
          "name": "stdout",
          "text": [
            "Intercept: -36.26598726450423\n",
            "Coefficient: [9.0925657  0.42930239]\n"
          ]
        }
      ]
    },
    {
      "cell_type": "markdown",
      "source": [
        "## Make Predictions\n",
        "\n",
        "Once the model is trained, we can use it to make predictions on the test data."
      ],
      "metadata": {
        "id": "RnK5gaeLxE8T"
      }
    },
    {
      "cell_type": "code",
      "source": [
        "# predict house values for the test set\n",
        "y_pred = model.predict(X_test)\n",
        "\n",
        "# create a dataframe containing the predictions alongside the actual values\n",
        "predictions = pd.DataFrame({'Actual': y_test, 'Predicted': y_pred})\n",
        "\n",
        "print(predictions.head())"
      ],
      "metadata": {
        "colab": {
          "base_uri": "https://localhost:8080/"
        },
        "id": "-VfvbrbZxLf-",
        "outputId": "167df5e0-636e-4b07-cef5-1567a24cfb11"
      },
      "execution_count": 7,
      "outputs": [
        {
          "output_type": "stream",
          "name": "stdout",
          "text": [
            "     Actual  Predicted\n",
            "173    23.6  23.207977\n",
            "274    32.4  26.932095\n",
            "491    13.6  18.936813\n",
            "72     22.8  21.150274\n",
            "452    16.1  22.006573\n"
          ]
        }
      ]
    },
    {
      "cell_type": "markdown",
      "source": [
        "## Visualize Best Fit Line in 3D\n",
        "\n",
        "Plot a 3D graph where blue points represent actual house values based on rooms and distance, and the red surface shows the best-fit plane predicted by the model.\n",
        "\n",
        "This visualization helps us to understand how these two features influence the predicted house prices."
      ],
      "metadata": {
        "id": "AspI0CKexmPJ"
      }
    },
    {
      "cell_type": "code",
      "source": [
        "fig = plt.figure(figsize=(8, 6))\n",
        "ax = fig.add_subplot(111, projection='3d')\n",
        "\n",
        "# scatter plot of actual data\n",
        "ax.scatter(X_test['rooms'], X_test['distance'],\n",
        "           y_test, color='steelblue', label='Actual Data')\n",
        "\n",
        "# create a meshgrid for the regression plane\n",
        "x1_range = np.linspace(X_test['rooms'].min(), X_test['rooms'].max(), 100)\n",
        "x2_range = np.linspace(X_test['distance'].min(), X_test['distance'].max(), 100)\n",
        "x1, x2 = np.meshgrid(x1_range, x2_range)\n",
        "\n",
        "z = model.predict(np.array([x1.ravel(), x2.ravel()]).T).reshape(x1.shape)\n",
        "\n",
        "# plot the regression plane\n",
        "ax.plot_surface(x1, x2, z, color='red', alpha=0.5, rstride=100, cstride=100)\n",
        "\n",
        "ax.set_xlabel('Rooms')\n",
        "ax.set_ylabel('Distance')\n",
        "ax.set_zlabel('House value')\n",
        "ax.set_title('Multiple Linear Regression Best Fit Line (3D)')\n",
        "\n",
        "# scale the plot to ensure the label fits\n",
        "ax.set_box_aspect(None, zoom=0.85)\n",
        "\n",
        "plt.show()"
      ],
      "metadata": {
        "colab": {
          "base_uri": "https://localhost:8080/",
          "height": 577
        },
        "id": "_NJek9cpxq53",
        "outputId": "e40e96f1-14ae-4328-a28b-35150a8dac27"
      },
      "execution_count": 8,
      "outputs": [
        {
          "output_type": "stream",
          "name": "stderr",
          "text": [
            "/usr/local/lib/python3.12/dist-packages/sklearn/utils/validation.py:2739: UserWarning: X does not have valid feature names, but LinearRegression was fitted with feature names\n",
            "  warnings.warn(\n"
          ]
        },
        {
          "output_type": "display_data",
          "data": {
            "text/plain": [
              "<Figure size 800x600 with 1 Axes>"
            ],
            "image/png": "[encoded data removed]"
          },
          "metadata": {}
        }
      ]
    },
    {
      "cell_type": "markdown",
      "source": [
        "## Evaluate the Model\n",
        "\n",
        "Finally, we will evaluate the model's performance using the metrics Mean Squared Error (MSE) and R-squared score.\n",
        "\n",
        "The Mean Squared Error is calculated as the average of the squared differences between the predicted and actual values. A lower MSE indicates a better fit of the model to the data.\n",
        "\n",
        "Scikit-learn's `mean_squared_error` function calculates MSE.\n",
        "\n",
        "The R-squared (coefficient of determination) score in `scikit-learn` is a metric used to evaluate the performance of regression models. It quantifies the proportion of the variance in the dependent variable that is predictable from the independent variable(s).\n",
        "\n",
        "Scikit-learn's `r2_score()` function calculates R-squared as:\n",
        "\n",
        "$$R^2 = \\frac {\\mathrm{Residual \\; Sum \\; of \\; Squares \\; (SSE)}}{\\mathrm{Total \\; Sum \\; of \\; Squares \\; (SST)}}$$\n",
        "\n",
        "where\n",
        "* SSE (Residual Sum of Squares): is the sum of the squared differences between the actual target values and the predicted target values.\n",
        "* SST (Total Sum of Squares): is the sum of the squared differences between the actual target values and the mean of the actual target values."
      ],
      "metadata": {
        "id": "_JTuDqjMy4et"
      }
    },
    {
      "cell_type": "code",
      "source": [
        "# calculate Mean Squared Error (MSE)\n",
        "mse = mean_squared_error(y_test, y_pred)\n",
        "print(f\"Mean Squared Error: {mse}\")\n",
        "\n",
        "# calculate R-squared score\n",
        "r2 = r2_score(y_test, y_pred)\n",
        "print(f\"R-squared score: {r2}\")"
      ],
      "metadata": {
        "colab": {
          "base_uri": "https://localhost:8080/"
        },
        "id": "qq7pP_l7zDKF",
        "outputId": "5d787077-8f50-4b82-a9b8-7e1770a5c740"
      },
      "execution_count": 9,
      "outputs": [
        {
          "output_type": "stream",
          "name": "stdout",
          "text": [
            "Mean Squared Error: 44.381163869527676\n",
            "R-squared score: 0.3948060231325965\n"
          ]
        }
      ]
    }
  ]
}